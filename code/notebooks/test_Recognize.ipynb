{
 "cells": [
  {
   "cell_type": "code",
   "execution_count": 5,
   "metadata": {},
   "outputs": [],
   "source": [
    "from keras.applications.vgg16 import VGG16\n",
    "from keras.models import Sequential\n",
    "from keras.layers import Conv2D,MaxPool2D,Activation,Dropout,Flatten,Dense\n",
    "from keras.preprocessing.image import ImageDataGenerator,img_to_array,load_img\n",
    "from PIL import Image\n",
    "import numpy as np\n",
    "import keras"
   ]
  },
  {
   "cell_type": "code",
   "execution_count": 75,
   "metadata": {},
   "outputs": [],
   "source": [
    "# imgs = []\n",
    "# with open(\"../../data/ImgProcessed/test/m/names.txt\") as file:\n",
    "#     for line in file.readlines():\n",
    "#         img = Image.open(\"../../data/ImgProcessed/test/m/\"+line.strip(\"\\n\"))\n",
    "#         img = img.resize((256,256))\n",
    "#         imgs.append(img)\n",
    "# with open(\"../../data/ImgProcessed/test/s/names.txt\") as file:\n",
    "#     for line in file.readlines():\n",
    "#         img = Image.open(\"../../data/ImgProcessed/test/s/\"+line.strip(\"\\n\"))\n",
    "#         img = img.resize((256,256))\n",
    "#         imgs.append(img)"
   ]
  },
  {
   "cell_type": "code",
   "execution_count": null,
   "metadata": {},
   "outputs": [],
   "source": [
    "# img = img.resize((256,256))\n",
    "# img.show()"
   ]
  },
  {
   "cell_type": "code",
   "execution_count": 3,
   "metadata": {},
   "outputs": [
    {
     "name": "stdout",
     "output_type": "stream",
     "text": [
      "Found 107 images belonging to 2 classes.\n"
     ]
    }
   ],
   "source": [
    "#用ImageDataGenerator的方式读取数据集\n",
    "test_datagen = ImageDataGenerator(rescale=1./255)\n",
    "# 测试数据\n",
    "test_generator = test_datagen.flow_from_directory(\n",
    "    '../../data/imgProcessed/test',\n",
    "    target_size=(256,256),\n",
    "    batch_size=1,\n",
    "    )\n"
   ]
  },
  {
   "cell_type": "code",
   "execution_count": 6,
   "metadata": {},
   "outputs": [
    {
     "name": "stdout",
     "output_type": "stream",
     "text": [
      "WARNING:tensorflow:From C:\\Users\\xytxy\\.conda\\envs\\ML\\lib\\site-packages\\tensorflow\\python\\framework\\op_def_library.py:263: colocate_with (from tensorflow.python.framework.ops) is deprecated and will be removed in a future version.\n",
      "Instructions for updating:\n",
      "Colocations handled automatically by placer.\n",
      "WARNING:tensorflow:From C:\\Users\\xytxy\\.conda\\envs\\ML\\lib\\site-packages\\keras\\backend\\tensorflow_backend.py:3733: calling dropout (from tensorflow.python.ops.nn_ops) with keep_prob is deprecated and will be removed in a future version.\n",
      "Instructions for updating:\n",
      "Please use `rate` instead of `keep_prob`. Rate should be set to `rate = 1 - keep_prob`.\n",
      "WARNING:tensorflow:From C:\\Users\\xytxy\\.conda\\envs\\ML\\lib\\site-packages\\tensorflow\\python\\ops\\math_ops.py:3066: to_int32 (from tensorflow.python.ops.math_ops) is deprecated and will be removed in a future version.\n",
      "Instructions for updating:\n",
      "Use tf.cast instead.\n",
      "Model: \"sequential_4\"\n",
      "_________________________________________________________________\n",
      "Layer (type)                 Output Shape              Param #   \n",
      "=================================================================\n",
      "vgg16 (Model)                (None, 8, 8, 512)         14714688  \n",
      "_________________________________________________________________\n",
      "sequential_3 (Sequential)    (None, 2)                 8389378   \n",
      "=================================================================\n",
      "Total params: 23,104,066\n",
      "Trainable params: 23,104,066\n",
      "Non-trainable params: 0\n",
      "_________________________________________________________________\n"
     ]
    }
   ],
   "source": [
    "model = keras.models.load_model(\"../../model/vgg16_256.h5\")\n",
    "model.summary()"
   ]
  },
  {
   "cell_type": "code",
   "execution_count": 7,
   "metadata": {},
   "outputs": [
    {
     "name": "stdout",
     "output_type": "stream",
     "text": [
      "107/107 [==============================] - 44s 407ms/step\n"
     ]
    }
   ],
   "source": [
    "test_generator.reset()\n",
    "pred = model.predict_generator(test_generator, verbose=1)"
   ]
  },
  {
   "cell_type": "code",
   "execution_count": null,
   "metadata": {},
   "outputs": [],
   "source": [
    "#获得了测试集预测结果\n",
    "predicted_class_indices = np.argmax(pred, axis=1)\n",
    "labels = (test_generator.class_indices)\n",
    "label = dict((v,k) for k,v in labels.items())\n",
    "\n",
    "# 建立预测值数字标签与真实种类标签的关系\n",
    "predictions = [label[i] for i in predicted_class_indices]"
   ]
  },
  {
   "cell_type": "code",
   "execution_count": 14,
   "metadata": {},
   "outputs": [
    {
     "name": "stdout",
     "output_type": "stream",
     "text": [
      "image:  m\\m101.jpg \t predict:  s\n",
      "image:  m\\m102.jpg \t predict:  m\n",
      "image:  m\\m103.jpg \t predict:  s\n",
      "image:  m\\m104.jpg \t predict:  m\n",
      "image:  m\\m105.jpg \t predict:  s\n",
      "image:  m\\m106.jpg \t predict:  s\n",
      "image:  m\\m107.jpg \t predict:  m\n",
      "image:  m\\m14.jpg \t predict:  s\n",
      "image:  m\\m15.jpg \t predict:  m\n",
      "image:  m\\m16.jpg \t predict:  s\n",
      "image:  m\\m22.jpg \t predict:  m\n",
      "image:  m\\m23.jpg \t predict:  m\n",
      "image:  m\\m29.jpg \t predict:  m\n",
      "image:  m\\m3.jpg \t predict:  s\n",
      "image:  m\\m30.jpg \t predict:  m\n",
      "image:  m\\m31.jpg \t predict:  s\n",
      "image:  m\\m32.jpg \t predict:  s\n",
      "image:  m\\m33.jpg \t predict:  m\n",
      "image:  m\\m39.jpg \t predict:  s\n",
      "image:  m\\m4.jpg \t predict:  m\n",
      "image:  m\\m43.jpg \t predict:  m\n",
      "image:  m\\m44.jpg \t predict:  s\n",
      "image:  m\\m45.jpg \t predict:  m\n",
      "image:  m\\m46.jpg \t predict:  s\n",
      "image:  m\\m47.jpg \t predict:  s\n",
      "image:  m\\m48.jpg \t predict:  m\n",
      "image:  m\\m49.jpg \t predict:  m\n",
      "image:  m\\m5.jpg \t predict:  m\n",
      "image:  m\\m50.jpg \t predict:  s\n",
      "image:  m\\m52.jpg \t predict:  m\n",
      "image:  m\\m53.jpg \t predict:  s\n",
      "image:  m\\m54.jpg \t predict:  s\n",
      "image:  m\\m59.jpg \t predict:  m\n",
      "image:  m\\m6.jpg \t predict:  s\n",
      "image:  m\\m60.jpg \t predict:  s\n",
      "image:  m\\m61.jpg \t predict:  m\n",
      "image:  m\\m62.jpg \t predict:  m\n",
      "image:  m\\m63.jpg \t predict:  m\n",
      "image:  m\\m7.jpg \t predict:  m\n",
      "image:  m\\m70.jpg \t predict:  m\n",
      "image:  m\\m78.jpg \t predict:  s\n",
      "image:  m\\m79.jpg \t predict:  m\n",
      "image:  m\\m8.jpg \t predict:  m\n",
      "image:  m\\m80.jpg \t predict:  s\n",
      "image:  m\\m81.jpg \t predict:  s\n",
      "image:  m\\m82.jpg \t predict:  s\n",
      "image:  m\\m83.jpg \t predict:  m\n",
      "image:  s\\s100.jpg \t predict:  s\n",
      "image:  s\\s111.jpg \t predict:  m\n",
      "image:  s\\s112.jpg \t predict:  s\n",
      "image:  s\\s113.jpg \t predict:  s\n",
      "image:  s\\s114.jpg \t predict:  s\n",
      "image:  s\\s115.jpg \t predict:  s\n",
      "image:  s\\s117.jpg \t predict:  s\n",
      "image:  s\\s119.jpg \t predict:  m\n",
      "image:  s\\s120.jpg \t predict:  s\n",
      "image:  s\\s13.jpg \t predict:  s\n",
      "image:  s\\s133.jpg \t predict:  s\n",
      "image:  s\\s136.jpg \t predict:  s\n",
      "image:  s\\s139.jpg \t predict:  s\n",
      "image:  s\\s14.jpg \t predict:  m\n",
      "image:  s\\s140.jpg \t predict:  s\n",
      "image:  s\\s141.jpg \t predict:  s\n",
      "image:  s\\s15.jpg \t predict:  s\n",
      "image:  s\\s19.jpg \t predict:  s\n",
      "image:  s\\s2.jpg \t predict:  s\n",
      "image:  s\\s20.jpg \t predict:  s\n",
      "image:  s\\s21.jpg \t predict:  s\n",
      "image:  s\\s23.jpg \t predict:  s\n",
      "image:  s\\s27.jpg \t predict:  s\n",
      "image:  s\\s29.jpg \t predict:  m\n",
      "image:  s\\s3.jpg \t predict:  s\n",
      "image:  s\\s31.jpg \t predict:  m\n",
      "image:  s\\s33.jpg \t predict:  m\n",
      "image:  s\\s35.jpg \t predict:  m\n",
      "image:  s\\s36.jpg \t predict:  m\n",
      "image:  s\\s4.jpg \t predict:  m\n",
      "image:  s\\s41.jpg \t predict:  s\n",
      "image:  s\\s5.jpg \t predict:  s\n",
      "image:  s\\s52.jpg \t predict:  s\n",
      "image:  s\\s53.jpg \t predict:  s\n",
      "image:  s\\s54.jpg \t predict:  m\n",
      "image:  s\\s55.jpg \t predict:  s\n",
      "image:  s\\s56.jpg \t predict:  s\n",
      "image:  s\\s58.jpg \t predict:  s\n",
      "image:  s\\s59.jpg \t predict:  m\n",
      "image:  s\\s6.jpg \t predict:  m\n",
      "image:  s\\s60.jpg \t predict:  s\n",
      "image:  s\\s61.jpg \t predict:  s\n",
      "image:  s\\s62.jpg \t predict:  s\n",
      "image:  s\\s63.jpg \t predict:  s\n",
      "image:  s\\s64.jpg \t predict:  s\n",
      "image:  s\\s65.jpg \t predict:  m\n",
      "image:  s\\s66.jpg \t predict:  s\n",
      "image:  s\\s7.jpg \t predict:  s\n",
      "image:  s\\s72.jpg \t predict:  m\n",
      "image:  s\\s73.jpg \t predict:  s\n",
      "image:  s\\s74.jpg \t predict:  s\n",
      "image:  s\\s75.jpg \t predict:  s\n",
      "image:  s\\s76.jpg \t predict:  s\n",
      "image:  s\\s77.jpg \t predict:  s\n",
      "image:  s\\s78.jpg \t predict:  m\n",
      "image:  s\\s79.jpg \t predict:  m\n",
      "image:  s\\s8.jpg \t predict:  m\n",
      "image:  s\\s80.jpg \t predict:  s\n",
      "image:  s\\s81.jpg \t predict:  s\n",
      "image:  s\\s90.jpg \t predict:  m\n",
      "ACC:  0.6261682242990654\n"
     ]
    }
   ],
   "source": [
    "#检查结果\n",
    "right_count = total_count = 0\n",
    "imgNames = test_generator.filenames\n",
    "for i in range(len(imgNames)):\n",
    "    if(imgNames[i][0]==predictions[i]):\n",
    "        right_count+=1\n",
    "    total_count += 1\n",
    "    print(\"image: \",imgNames[i],\"\\t\",\"predict: \",predictions[i])\n",
    "    \n",
    "print(\"ACC: \",right_count/total_count)"
   ]
  },
  {
   "cell_type": "code",
   "execution_count": null,
   "metadata": {},
   "outputs": [],
   "source": []
  }
 ],
 "metadata": {
  "kernelspec": {
   "display_name": "ML",
   "language": "python",
   "name": "ml"
  },
  "language_info": {
   "codemirror_mode": {
    "name": "ipython",
    "version": 3
   },
   "file_extension": ".py",
   "mimetype": "text/x-python",
   "name": "python",
   "nbconvert_exporter": "python",
   "pygments_lexer": "ipython3",
   "version": "3.7.3"
  }
 },
 "nbformat": 4,
 "nbformat_minor": 2
}
