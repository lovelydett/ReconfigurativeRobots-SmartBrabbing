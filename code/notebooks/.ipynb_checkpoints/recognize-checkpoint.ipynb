{
 "cells": [
  {
   "cell_type": "code",
   "execution_count": 1,
   "metadata": {},
   "outputs": [
    {
     "name": "stderr",
     "output_type": "stream",
     "text": [
      "Using TensorFlow backend.\n",
      "C:\\Users\\xytxy\\.conda\\envs\\ML\\lib\\site-packages\\tensorflow\\python\\framework\\dtypes.py:526: FutureWarning: Passing (type, 1) or '1type' as a synonym of type is deprecated; in a future version of numpy, it will be understood as (type, (1,)) / '(1,)type'.\n",
      "  _np_qint8 = np.dtype([(\"qint8\", np.int8, 1)])\n",
      "C:\\Users\\xytxy\\.conda\\envs\\ML\\lib\\site-packages\\tensorflow\\python\\framework\\dtypes.py:527: FutureWarning: Passing (type, 1) or '1type' as a synonym of type is deprecated; in a future version of numpy, it will be understood as (type, (1,)) / '(1,)type'.\n",
      "  _np_quint8 = np.dtype([(\"quint8\", np.uint8, 1)])\n",
      "C:\\Users\\xytxy\\.conda\\envs\\ML\\lib\\site-packages\\tensorflow\\python\\framework\\dtypes.py:528: FutureWarning: Passing (type, 1) or '1type' as a synonym of type is deprecated; in a future version of numpy, it will be understood as (type, (1,)) / '(1,)type'.\n",
      "  _np_qint16 = np.dtype([(\"qint16\", np.int16, 1)])\n",
      "C:\\Users\\xytxy\\.conda\\envs\\ML\\lib\\site-packages\\tensorflow\\python\\framework\\dtypes.py:529: FutureWarning: Passing (type, 1) or '1type' as a synonym of type is deprecated; in a future version of numpy, it will be understood as (type, (1,)) / '(1,)type'.\n",
      "  _np_quint16 = np.dtype([(\"quint16\", np.uint16, 1)])\n",
      "C:\\Users\\xytxy\\.conda\\envs\\ML\\lib\\site-packages\\tensorflow\\python\\framework\\dtypes.py:530: FutureWarning: Passing (type, 1) or '1type' as a synonym of type is deprecated; in a future version of numpy, it will be understood as (type, (1,)) / '(1,)type'.\n",
      "  _np_qint32 = np.dtype([(\"qint32\", np.int32, 1)])\n",
      "C:\\Users\\xytxy\\.conda\\envs\\ML\\lib\\site-packages\\tensorflow\\python\\framework\\dtypes.py:535: FutureWarning: Passing (type, 1) or '1type' as a synonym of type is deprecated; in a future version of numpy, it will be understood as (type, (1,)) / '(1,)type'.\n",
      "  np_resource = np.dtype([(\"resource\", np.ubyte, 1)])\n"
     ]
    }
   ],
   "source": [
    "from keras.applications.vgg16 import VGG16\n",
    "from keras.models import Sequential\n",
    "from keras.layers import Conv2D,MaxPool2D,Activation,Dropout,Flatten,Dense\n",
    "from keras.optimizers import SGD\n",
    "from keras.preprocessing.image import ImageDataGenerator,img_to_array,load_img\n",
    "import numpy as np\n",
    "import PIL"
   ]
  },
  {
   "cell_type": "code",
   "execution_count": 9,
   "metadata": {},
   "outputs": [],
   "source": [
    "#vgg16_model = VGG16(weights='imagenet',include_top=False, input_shape=(256,256,3))"
   ]
  },
  {
   "cell_type": "code",
   "execution_count": 10,
   "metadata": {},
   "outputs": [],
   "source": [
    "#VGG16 : 太容易过拟合 先不用\n",
    "# top_model = Sequential()\n",
    "# top_model.add(Flatten(input_shape=vgg16_model.output_shape[1:]))\n",
    "# top_model.add(Dense(256,activation='relu'))\n",
    "# top_model.add(Dropout(0.5))\n",
    "# top_model.add(Dense(2,activation='softmax'))\n",
    "# model = Sequential()\n",
    "# model.add(vgg16_model)\n",
    "# model.add(top_model)\n",
    "\n",
    "#3层卷积\n",
    "imgSize = 512  #图片是512*512\n",
    "imgChan = 3    #3通道\n",
    "kernelInit = 'uniform'  #卷积核初始化方式\n",
    "nHiddenUnits = 50\n",
    "n_convpool_layers = 1\n",
    "n_convlayers = 2\n",
    "n_reglayers = 2\n",
    "maxpoolSize = (2,2)\n",
    "train_set_ratio = 0.7\n",
    "valid_set_ratio = 0.15\n",
    "set_split_ratio34 = 0.5\n",
    "drop_rate = 0.0\n",
    "nFilters = 130 #130 before \n",
    "reg_factor = 0.0\n",
    "kernelSize = (2,2)\n",
    "inputStrides = 1\n",
    "costFunction = 'categorical_crossentropy' #代价函数:不同于损失函数，代价函数在整个训练集上计算\n",
    "batch_size = 64#128\n",
    "feed_batch_size = 256\n",
    "\n",
    "\n",
    "model=Sequential()\n",
    "\n",
    "model.add(Conv2D(filters=nFilters, kernel_size = kernelSize ,strides= inputStrides,\n",
    "                 input_shape=(512,512,3),kernel_initializer= kernelInit))\n",
    "model.add(Activation('relu'))\n",
    "\n",
    "\n",
    "\n",
    "model.add(MaxPooling2D(pool_size=max_poolsize))\n",
    "\n",
    "\n",
    "model.add(Conv2D(filters=nFilters, kernel_size = kernelSize ,strides= inputStrides,\n",
    "                 kernel_initializer= kernelInit))\n",
    "model.add(Activation('relu'))\n",
    "model.add(MaxPooling2D(pool_size=maxpoolSize))\n",
    "\n",
    "\n",
    "model.add(Conv2D(filters=nFilters, kernel_size = kernelSize ,strides= inputStrides,\n",
    "                 kernel_initializer= kernelInit))\n",
    "model.add(Activation('relu'))\n",
    "model.add(MaxPooling2D(pool_size=maxpoolSize))\n",
    "\n",
    "model.add(Flatten())\n",
    "model.add(Dense(nHiddenUnits))\n",
    "model.add(Activation('relu'))\n",
    "model.add(Dense(2, activation='linear'))\n",
    "\n",
    "earlyStopping = keras.callbacks.EarlyStopping(monitor='val_loss', min_delta=early_stop_delta, patience=early_stop_patience, verbose=2, mode='auto')\n",
    "\n",
    "model.summary()"
   ]
  },
  {
   "cell_type": "code",
   "execution_count": 11,
   "metadata": {},
   "outputs": [],
   "source": [
    "#测试 ImageDataGenerator\n",
    "train_datagen = ImageDataGenerator(\n",
    "    rotation_range = 40,     # 随机旋转度数\n",
    "    width_shift_range = 0.2, # 随机水平平移\n",
    "    height_shift_range = 0.2,# 随机竖直平移\n",
    "    rescale = 1/255,         # 数据归一化\n",
    "    shear_range = 20,       # 随机错切变换\n",
    "    zoom_range = 0.2,        # 随机放大\n",
    "    horizontal_flip = True,  # 水平翻转\n",
    "    fill_mode = 'nearest',   # 填充方式\n",
    ")\n",
    "test_datagen = ImageDataGenerator(\n",
    "    rescale = 1/255,         # 数据归一化\n",
    ")\n",
    "\n",
    "validation_datagen = ImageDataGenerator(\n",
    "    rescale = 1/255,)"
   ]
  },
  {
   "cell_type": "code",
   "execution_count": 16,
   "metadata": {},
   "outputs": [
    {
     "name": "stdout",
     "output_type": "stream",
     "text": [
      "Found 244 images belonging to 2 classes.\n",
      "Found 107 images belonging to 2 classes.\n",
      "Found 48 images belonging to 2 classes.\n"
     ]
    }
   ],
   "source": [
    "batch_size = 10\n",
    "# 生成训练数据\n",
    "train_generator = train_datagen.flow_from_directory(\n",
    "    '../../data/imgProcessed/training',\n",
    "    target_size=(256,256),\n",
    "    batch_size=batch_size,\n",
    "    )\n",
    "\n",
    "# 测试数据\n",
    "test_generator = test_datagen.flow_from_directory(\n",
    "    '../../data/imgProcessed/test',\n",
    "    target_size=(256,256),\n",
    "    batch_size=batch_size,\n",
    "    )\n",
    "\n",
    "#验证集\n",
    "validation_generator = validation_datagen.flow_from_directory(\n",
    "    '../../data/imgProcessed/validation',\n",
    "    target_size=(256,256),\n",
    "    batch_size=batch_size,\n",
    "    )"
   ]
  },
  {
   "cell_type": "code",
   "execution_count": 17,
   "metadata": {},
   "outputs": [
    {
     "data": {
      "text/plain": [
       "{'m': 0, 's': 1}"
      ]
     },
     "execution_count": 17,
     "metadata": {},
     "output_type": "execute_result"
    }
   ],
   "source": [
    "train_generator.class_indices"
   ]
  },
  {
   "cell_type": "code",
   "execution_count": 18,
   "metadata": {},
   "outputs": [
    {
     "name": "stdout",
     "output_type": "stream",
     "text": [
      "Model: \"sequential_4\"\n",
      "_________________________________________________________________\n",
      "Layer (type)                 Output Shape              Param #   \n",
      "=================================================================\n",
      "vgg16 (Model)                (None, 8, 8, 512)         14714688  \n",
      "_________________________________________________________________\n",
      "sequential_3 (Sequential)    (None, 2)                 8389378   \n",
      "=================================================================\n",
      "Total params: 23,104,066\n",
      "Trainable params: 23,104,066\n",
      "Non-trainable params: 0\n",
      "_________________________________________________________________\n"
     ]
    }
   ],
   "source": [
    "model.compile(optimizer=SGD(lr=1e-4,momentum=0.9),loss=costFunction,metrics=['accuracy'])\n",
    "model.summary()"
   ]
  },
  {
   "cell_type": "code",
   "execution_count": 19,
   "metadata": {},
   "outputs": [
    {
     "name": "stdout",
     "output_type": "stream",
     "text": [
      "Epoch 1/20\n",
      "25/25 [==============================] - 637s 25s/step - loss: 0.7362 - acc: 0.5796 - val_loss: 0.5832 - val_acc: 0.8125\n",
      "Epoch 2/20\n",
      "25/25 [==============================] - 551s 22s/step - loss: 0.5998 - acc: 0.6539 - val_loss: 0.5218 - val_acc: 0.6875\n",
      "Epoch 3/20\n",
      "25/25 [==============================] - 342s 14s/step - loss: 0.4495 - acc: 0.8158 - val_loss: 0.2054 - val_acc: 0.9792\n",
      "Epoch 4/20\n",
      "25/25 [==============================] - 342s 14s/step - loss: 0.3206 - acc: 0.8719 - val_loss: 0.3267 - val_acc: 0.8542\n",
      "Epoch 5/20\n",
      "25/25 [==============================] - 353s 14s/step - loss: 0.2456 - acc: 0.8999 - val_loss: 0.1415 - val_acc: 0.9375\n",
      "Epoch 6/20\n",
      "25/25 [==============================] - 347s 14s/step - loss: 0.2234 - acc: 0.9239 - val_loss: 0.0636 - val_acc: 1.0000\n",
      "Epoch 7/20\n",
      "25/25 [==============================] - 361s 14s/step - loss: 0.1487 - acc: 0.9520 - val_loss: 0.0897 - val_acc: 0.9792\n",
      "Epoch 8/20\n",
      "25/25 [==============================] - 368s 15s/step - loss: 0.1956 - acc: 0.9159 - val_loss: 0.1417 - val_acc: 0.9375\n",
      "Epoch 9/20\n",
      "25/25 [==============================] - 368s 15s/step - loss: 0.1140 - acc: 0.9520 - val_loss: 0.0361 - val_acc: 0.9792\n",
      "Epoch 10/20\n",
      "25/25 [==============================] - 378s 15s/step - loss: 0.1074 - acc: 0.9560 - val_loss: 0.1737 - val_acc: 0.9375\n",
      "Epoch 11/20\n",
      "25/25 [==============================] - 358s 14s/step - loss: 0.1493 - acc: 0.9359 - val_loss: 0.1754 - val_acc: 0.9375\n",
      "Epoch 12/20\n",
      "25/25 [==============================] - 373s 15s/step - loss: 0.1181 - acc: 0.9520 - val_loss: 0.0149 - val_acc: 1.0000\n",
      "Epoch 13/20\n",
      "25/25 [==============================] - 345s 14s/step - loss: 0.1097 - acc: 0.9680 - val_loss: 0.0215 - val_acc: 1.0000\n",
      "Epoch 14/20\n",
      "25/25 [==============================] - 352s 14s/step - loss: 0.1059 - acc: 0.9399 - val_loss: 0.0140 - val_acc: 1.0000\n",
      "Epoch 15/20\n",
      "25/25 [==============================] - 348s 14s/step - loss: 0.0702 - acc: 0.9720 - val_loss: 0.0095 - val_acc: 1.0000\n",
      "Epoch 16/20\n",
      "25/25 [==============================] - 349s 14s/step - loss: 0.0485 - acc: 0.9840 - val_loss: 0.0067 - val_acc: 1.0000\n",
      "Epoch 17/20\n",
      "25/25 [==============================] - 352s 14s/step - loss: 0.0769 - acc: 0.9800 - val_loss: 0.0195 - val_acc: 1.0000\n",
      "Epoch 18/20\n",
      "25/25 [==============================] - 358s 14s/step - loss: 0.0350 - acc: 0.9880 - val_loss: 0.0024 - val_acc: 1.0000\n",
      "Epoch 19/20\n",
      "25/25 [==============================] - 354s 14s/step - loss: 0.0870 - acc: 0.9760 - val_loss: 0.0128 - val_acc: 1.0000\n",
      "Epoch 20/20\n",
      "25/25 [==============================] - 409s 16s/step - loss: 0.0526 - acc: 0.9760 - val_loss: 0.0045 - val_acc: 1.0000\n"
     ]
    },
    {
     "data": {
      "text/plain": [
       "<keras.callbacks.History at 0x2708cd3de10>"
      ]
     },
     "execution_count": 19,
     "metadata": {},
     "output_type": "execute_result"
    }
   ],
   "source": [
    "from PIL import Image\n",
    "model.fit_generator(train_generator,steps_per_epoch=len(train_generator),epochs=20,validation_data=validation_generator,validation_steps=len(validation_generator))"
   ]
  },
  {
   "cell_type": "code",
   "execution_count": 20,
   "metadata": {},
   "outputs": [],
   "source": [
    "model.save(\"../../model/vgg16_256.h5\")"
   ]
  },
  {
   "cell_type": "code",
   "execution_count": null,
   "metadata": {},
   "outputs": [],
   "source": []
  }
 ],
 "metadata": {
  "kernelspec": {
   "display_name": "ML",
   "language": "python",
   "name": "ml"
  },
  "language_info": {
   "codemirror_mode": {
    "name": "ipython",
    "version": 3
   },
   "file_extension": ".py",
   "mimetype": "text/x-python",
   "name": "python",
   "nbconvert_exporter": "python",
   "pygments_lexer": "ipython3",
   "version": "3.7.1"
  }
 },
 "nbformat": 4,
 "nbformat_minor": 2
}
