{
 "cells": [
  {
   "cell_type": "code",
   "execution_count": 11,
   "metadata": {},
   "outputs": [],
   "source": [
    "import os\n",
    "import tensorflow as tf\n",
    "import keras.backend.tensorflow_backend as KTF\n",
    "from keras.applications.vgg16 import VGG16\n",
    "from keras.models import Sequential\n",
    "from keras.layers import Conv2D,MaxPooling2D,Activation,Dropout,Flatten,Dense\n",
    "from keras.optimizers import SGD, Adam\n",
    "from keras.preprocessing.image import ImageDataGenerator,img_to_array,load_img\n",
    "import numpy as np\n",
    "import PIL\n",
    "import keras"
   ]
  },
  {
   "cell_type": "code",
   "execution_count": 13,
   "metadata": {},
   "outputs": [],
   "source": [
    "#设置显卡使用情况和限制显存使用情况\n",
    "# 指定第一块GPU可用 \n",
    "import os\n",
    "os.environ[\"CUDA_VISIBLE_DEVICES\"] = \"1\" #Titan XP\n",
    "config = tf.ConfigProto()  \n",
    "config.gpu_options.allow_growth=True   #不全部占满显存, 按需分配\n",
    "sess = tf.Session(config=config)\n"
   ]
  },
  {
   "cell_type": "code",
   "execution_count": 15,
   "metadata": {},
   "outputs": [
    {
     "name": "stdout",
     "output_type": "stream",
     "text": [
      "_________________________________________________________________\n",
      "Layer (type)                 Output Shape              Param #   \n",
      "=================================================================\n",
      "conv2d_7 (Conv2D)            (None, 255, 255, 130)     1690      \n",
      "_________________________________________________________________\n",
      "activation_11 (Activation)   (None, 255, 255, 130)     0         \n",
      "_________________________________________________________________\n",
      "max_pooling2d_7 (MaxPooling2 (None, 127, 127, 130)     0         \n",
      "_________________________________________________________________\n",
      "conv2d_8 (Conv2D)            (None, 126, 126, 130)     67730     \n",
      "_________________________________________________________________\n",
      "activation_12 (Activation)   (None, 126, 126, 130)     0         \n",
      "_________________________________________________________________\n",
      "max_pooling2d_8 (MaxPooling2 (None, 63, 63, 130)       0         \n",
      "_________________________________________________________________\n",
      "conv2d_9 (Conv2D)            (None, 62, 62, 130)       67730     \n",
      "_________________________________________________________________\n",
      "activation_13 (Activation)   (None, 62, 62, 130)       0         \n",
      "_________________________________________________________________\n",
      "max_pooling2d_9 (MaxPooling2 (None, 31, 31, 130)       0         \n",
      "_________________________________________________________________\n",
      "flatten_3 (Flatten)          (None, 124930)            0         \n",
      "_________________________________________________________________\n",
      "dense_5 (Dense)              (None, 50)                6246550   \n",
      "_________________________________________________________________\n",
      "activation_14 (Activation)   (None, 50)                0         \n",
      "_________________________________________________________________\n",
      "dense_6 (Dense)              (None, 1)                 51        \n",
      "_________________________________________________________________\n",
      "activation_15 (Activation)   (None, 1)                 0         \n",
      "=================================================================\n",
      "Total params: 6,383,751\n",
      "Trainable params: 6,383,751\n",
      "Non-trainable params: 0\n",
      "_________________________________________________________________\n"
     ]
    }
   ],
   "source": [
    "# VGG16 : 太容易过拟合 先不用\n",
    "# top_model = Sequential()\n",
    "# top_model.add(Flatten(input_shape=vgg16_model.output_shape[1:]))\n",
    "# top_model.add(Dense(256,activation='relu'))\n",
    "# top_model.add(Dropout(0.5))\n",
    "# top_model.add(Dense(2,activation='softmax'))\n",
    "# model = Sequential()\n",
    "# vgg16_model = VGG16(weights='imagenet',include_top=False, input_shape=(256,256,3))\n",
    "# model.add(vgg16_model)\n",
    "# model.add(top_model)\n",
    "\n",
    "#3层卷积\n",
    "imgSize = 256  #图片尺寸\n",
    "imgChan = 3    #3通道\n",
    "kernelInit = 'uniform'  #卷积核初始化方式\n",
    "nHiddenUnits = 50\n",
    "maxpoolSize = (2,2)\n",
    "nFilters = 130 #130 before \n",
    "kernelSize = (2,2)\n",
    "inputStrides = 1\n",
    "costFunction = 'categorical_crossentropy' #代价函数:不同于损失函数，代价函数在整个训练集上计算\n",
    "early_stop_delta = 0.01 # 0.01 change or above is considered improvement\n",
    "early_stop_patience = 10 \n",
    "\n",
    "model=Sequential()\n",
    "\n",
    "model.add(Conv2D(filters=nFilters, kernel_size = kernelSize ,strides= inputStrides,\n",
    "                 input_shape=(imgSize,imgSize,3),kernel_initializer= kernelInit))\n",
    "model.add(Activation('relu'))\n",
    "\n",
    "\n",
    "\n",
    "model.add(MaxPooling2D(pool_size=maxpoolSize))\n",
    "\n",
    "\n",
    "model.add(Conv2D(filters=nFilters, kernel_size = kernelSize ,strides= inputStrides,\n",
    "                 kernel_initializer= kernelInit))\n",
    "model.add(Activation('relu'))\n",
    "model.add(MaxPooling2D(pool_size=maxpoolSize))\n",
    "\n",
    "\n",
    "model.add(Conv2D(filters=nFilters, kernel_size = kernelSize ,strides= inputStrides,\n",
    "                 kernel_initializer= kernelInit))\n",
    "model.add(Activation('relu'))\n",
    "model.add(MaxPooling2D(pool_size=maxpoolSize))\n",
    "\n",
    "model.add(Flatten())\n",
    "model.add(Dense(nHiddenUnits))\n",
    "model.add(Activation('relu'))\n",
    "model.add(Dense(1))\n",
    "model.add(Activation('sigmoid'))\n",
    "\n",
    "earlyStopping = keras.callbacks.EarlyStopping(monitor='val_loss', min_delta=early_stop_delta, patience=early_stop_patience, verbose=2, mode='auto')\n",
    "\n",
    "model.summary()"
   ]
  },
  {
   "cell_type": "code",
   "execution_count": 16,
   "metadata": {},
   "outputs": [],
   "source": [
    "#测试 ImageDataGenerator\n",
    "train_datagen = ImageDataGenerator(\n",
    "    rotation_range = 40,     # 随机旋转度数\n",
    "    width_shift_range = 0.2, # 随机水平平移\n",
    "    height_shift_range = 0.2,# 随机竖直平移\n",
    "    rescale = 1/255,         # 数据归一化\n",
    "    shear_range = 20,       # 随机错切变换\n",
    "    zoom_range = 0.2,        # 随机放大\n",
    "    horizontal_flip = True,  # 水平翻转\n",
    "    fill_mode = 'nearest',   # 填充方式\n",
    ")\n",
    "test_datagen = ImageDataGenerator(\n",
    "    rescale = 1/255,         # 数据归一化\n",
    ")\n",
    "\n",
    "validation_datagen = ImageDataGenerator(\n",
    "    rescale = 1/255,)"
   ]
  },
  {
   "cell_type": "code",
   "execution_count": 17,
   "metadata": {},
   "outputs": [
    {
     "name": "stdout",
     "output_type": "stream",
     "text": [
      "Found 244 images belonging to 2 classes.\n",
      "Found 107 images belonging to 2 classes.\n",
      "Found 48 images belonging to 2 classes.\n"
     ]
    }
   ],
   "source": [
    "batch_size = 5\n",
    "# 生成训练数据\n",
    "train_generator = train_datagen.flow_from_directory(\n",
    "    '../../data/imgProcessed/training',\n",
    "    target_size=(imgSize,imgSize),\n",
    "    batch_size=batch_size,\n",
    "    class_mode='binary',\n",
    "    )\n",
    "\n",
    "# 测试数据\n",
    "test_generator = test_datagen.flow_from_directory(\n",
    "    '../../data/imgProcessed/test',\n",
    "    target_size=(imgSize,imgSize),\n",
    "    batch_size=batch_size,\n",
    "    class_mode='binary',\n",
    "    )\n",
    "\n",
    "#验证集\n",
    "validation_generator = validation_datagen.flow_from_directory(\n",
    "    '../../data/imgProcessed/validation',\n",
    "    target_size=(imgSize,imgSize),\n",
    "    batch_size=batch_size,\n",
    "    class_mode='binary',\n",
    "    )"
   ]
  },
  {
   "cell_type": "code",
   "execution_count": 18,
   "metadata": {},
   "outputs": [
    {
     "data": {
      "text/plain": [
       "{'m': 0, 's': 1}"
      ]
     },
     "execution_count": 18,
     "metadata": {},
     "output_type": "execute_result"
    }
   ],
   "source": [
    "train_generator.class_indices"
   ]
  },
  {
   "cell_type": "code",
   "execution_count": 19,
   "metadata": {},
   "outputs": [],
   "source": [
    "#model.compile(optimizer=SGD(lr=1e-4,momentum=0.9),loss=costFunction,metrics=['categorical_accuracy'])\n",
    "model.compile(optimizer=Adam(lr=0.0005, beta_1=0.9, beta_2=0.999, epsilon=1e-08),loss=\"binary_crossentropy\",metrics=['binary_accuracy'])"
   ]
  },
  {
   "cell_type": "code",
   "execution_count": 20,
   "metadata": {},
   "outputs": [
    {
     "name": "stdout",
     "output_type": "stream",
     "text": [
      "Epoch 1/60\n",
      "49/49 [==============================] - 10s 199ms/step - loss: 0.6999 - binary_accuracy: 0.5357 - val_loss: 0.6790 - val_binary_accuracy: 0.5000\n",
      "Epoch 2/60\n",
      "49/49 [==============================] - 9s 177ms/step - loss: 0.6584 - binary_accuracy: 0.5684 - val_loss: 0.6931 - val_binary_accuracy: 0.5000\n",
      "Epoch 3/60\n",
      "49/49 [==============================] - 9s 184ms/step - loss: 0.6931 - binary_accuracy: 0.5072 - val_loss: 0.6932 - val_binary_accuracy: 0.5000\n",
      "Epoch 4/60\n",
      "49/49 [==============================] - 9s 189ms/step - loss: 0.6932 - binary_accuracy: 0.5072 - val_loss: 0.6932 - val_binary_accuracy: 0.5000\n",
      "Epoch 5/60\n",
      "49/49 [==============================] - 9s 190ms/step - loss: 0.6931 - binary_accuracy: 0.5102 - val_loss: 0.6932 - val_binary_accuracy: 0.5000\n",
      "Epoch 6/60\n",
      "49/49 [==============================] - 9s 194ms/step - loss: 0.6886 - binary_accuracy: 0.5663 - val_loss: 0.5424 - val_binary_accuracy: 0.7500\n",
      "Epoch 7/60\n",
      "49/49 [==============================] - 9s 181ms/step - loss: 0.5330 - binary_accuracy: 0.7990 - val_loss: 0.4540 - val_binary_accuracy: 0.9583\n",
      "Epoch 8/60\n",
      "49/49 [==============================] - 9s 176ms/step - loss: 0.5645 - binary_accuracy: 0.8031 - val_loss: 0.6743 - val_binary_accuracy: 0.6667\n",
      "Epoch 9/60\n",
      "49/49 [==============================] - 9s 187ms/step - loss: 0.5648 - binary_accuracy: 0.7378 - val_loss: 0.5474 - val_binary_accuracy: 0.6458\n",
      "Epoch 10/60\n",
      "49/49 [==============================] - 9s 184ms/step - loss: 0.5409 - binary_accuracy: 0.8245 - val_loss: 0.4548 - val_binary_accuracy: 0.9375\n",
      "Epoch 11/60\n",
      "49/49 [==============================] - 9s 188ms/step - loss: 0.4542 - binary_accuracy: 0.8653 - val_loss: 0.3694 - val_binary_accuracy: 0.9583\n",
      "Epoch 12/60\n",
      "49/49 [==============================] - 9s 185ms/step - loss: 0.5416 - binary_accuracy: 0.7714 - val_loss: 0.4167 - val_binary_accuracy: 0.9375\n",
      "Epoch 13/60\n",
      "49/49 [==============================] - 9s 178ms/step - loss: 0.4848 - binary_accuracy: 0.8694 - val_loss: 0.4632 - val_binary_accuracy: 0.9167\n",
      "Epoch 14/60\n",
      "49/49 [==============================] - 9s 187ms/step - loss: 0.4609 - binary_accuracy: 0.8653 - val_loss: 0.4671 - val_binary_accuracy: 0.7917\n",
      "Epoch 15/60\n",
      "49/49 [==============================] - 9s 186ms/step - loss: 0.4376 - binary_accuracy: 0.8970 - val_loss: 0.4161 - val_binary_accuracy: 0.8750\n",
      "Epoch 16/60\n",
      "49/49 [==============================] - 9s 186ms/step - loss: 0.4345 - binary_accuracy: 0.8735 - val_loss: 0.4155 - val_binary_accuracy: 0.9167\n",
      "Epoch 17/60\n",
      "49/49 [==============================] - 9s 186ms/step - loss: 0.3980 - binary_accuracy: 0.8939 - val_loss: 0.3685 - val_binary_accuracy: 0.9583\n",
      "Epoch 18/60\n",
      "49/49 [==============================] - 9s 180ms/step - loss: 0.4893 - binary_accuracy: 0.8031 - val_loss: 0.5215 - val_binary_accuracy: 0.8333\n",
      "Epoch 19/60\n",
      "49/49 [==============================] - 9s 184ms/step - loss: 0.4343 - binary_accuracy: 0.8735 - val_loss: 0.3925 - val_binary_accuracy: 0.9375\n",
      "Epoch 20/60\n",
      "49/49 [==============================] - 9s 191ms/step - loss: 0.4169 - binary_accuracy: 0.8684 - val_loss: 0.3978 - val_binary_accuracy: 0.8958\n",
      "Epoch 21/60\n",
      "49/49 [==============================] - 9s 183ms/step - loss: 0.4389 - binary_accuracy: 0.8653 - val_loss: 0.3938 - val_binary_accuracy: 0.8958\n",
      "Epoch 22/60\n",
      "49/49 [==============================] - 9s 186ms/step - loss: 0.4014 - binary_accuracy: 0.8735 - val_loss: 0.3938 - val_binary_accuracy: 0.9167\n",
      "Epoch 23/60\n",
      "49/49 [==============================] - 9s 185ms/step - loss: 0.4176 - binary_accuracy: 0.8735 - val_loss: 0.4231 - val_binary_accuracy: 0.9583\n",
      "Epoch 24/60\n",
      "49/49 [==============================] - 9s 183ms/step - loss: 0.4084 - binary_accuracy: 0.8775 - val_loss: 0.3648 - val_binary_accuracy: 0.9167\n",
      "Epoch 25/60\n",
      "49/49 [==============================] - 9s 182ms/step - loss: 0.4254 - binary_accuracy: 0.8816 - val_loss: 0.3522 - val_binary_accuracy: 0.9583\n",
      "Epoch 26/60\n",
      "49/49 [==============================] - 9s 183ms/step - loss: 0.3886 - binary_accuracy: 0.9061 - val_loss: 0.3671 - val_binary_accuracy: 0.9583\n",
      "Epoch 27/60\n",
      "49/49 [==============================] - 9s 188ms/step - loss: 0.4421 - binary_accuracy: 0.8633 - val_loss: 0.7028 - val_binary_accuracy: 0.5000\n",
      "Epoch 28/60\n",
      "49/49 [==============================] - 9s 182ms/step - loss: 0.6446 - binary_accuracy: 0.5918 - val_loss: 0.4900 - val_binary_accuracy: 0.7708\n",
      "Epoch 29/60\n",
      "49/49 [==============================] - 9s 183ms/step - loss: 0.3787 - binary_accuracy: 0.8694 - val_loss: 0.1655 - val_binary_accuracy: 0.9583\n",
      "Epoch 30/60\n",
      "49/49 [==============================] - 9s 190ms/step - loss: 0.2790 - binary_accuracy: 0.8857 - val_loss: 0.3934 - val_binary_accuracy: 0.8333\n",
      "Epoch 31/60\n",
      "49/49 [==============================] - 9s 186ms/step - loss: 0.2954 - binary_accuracy: 0.9010 - val_loss: 0.1239 - val_binary_accuracy: 0.9583\n",
      "Epoch 32/60\n",
      "49/49 [==============================] - 9s 182ms/step - loss: 0.2358 - binary_accuracy: 0.8888 - val_loss: 0.5486 - val_binary_accuracy: 0.8125\n",
      "Epoch 33/60\n",
      "49/49 [==============================] - 9s 189ms/step - loss: 0.3173 - binary_accuracy: 0.8653 - val_loss: 0.1395 - val_binary_accuracy: 0.9583\n",
      "Epoch 34/60\n",
      "49/49 [==============================] - 9s 189ms/step - loss: 0.2272 - binary_accuracy: 0.8980 - val_loss: 0.0798 - val_binary_accuracy: 0.9583\n",
      "Epoch 35/60\n",
      "49/49 [==============================] - 9s 187ms/step - loss: 0.1885 - binary_accuracy: 0.9224 - val_loss: 0.1152 - val_binary_accuracy: 0.9792\n",
      "Epoch 36/60\n",
      "49/49 [==============================] - 9s 183ms/step - loss: 0.1636 - binary_accuracy: 0.9306 - val_loss: 0.1857 - val_binary_accuracy: 0.9583\n",
      "Epoch 37/60\n",
      "49/49 [==============================] - 9s 180ms/step - loss: 0.1565 - binary_accuracy: 0.9224 - val_loss: 0.0553 - val_binary_accuracy: 0.9792\n",
      "Epoch 38/60\n",
      "49/49 [==============================] - 9s 190ms/step - loss: 0.1184 - binary_accuracy: 0.9551 - val_loss: 0.0501 - val_binary_accuracy: 0.9792\n",
      "Epoch 39/60\n",
      "49/49 [==============================] - 9s 186ms/step - loss: 0.1342 - binary_accuracy: 0.9469 - val_loss: 0.0866 - val_binary_accuracy: 0.9792\n",
      "Epoch 40/60\n",
      "49/49 [==============================] - 9s 189ms/step - loss: 0.0875 - binary_accuracy: 0.9592 - val_loss: 0.1144 - val_binary_accuracy: 0.9792\n",
      "Epoch 41/60\n",
      "49/49 [==============================] - 10s 196ms/step - loss: 0.0847 - binary_accuracy: 0.9704 - val_loss: 0.1382 - val_binary_accuracy: 0.9792\n",
      "Epoch 42/60\n",
      "49/49 [==============================] - 9s 189ms/step - loss: 0.1555 - binary_accuracy: 0.9429 - val_loss: 0.0145 - val_binary_accuracy: 1.0000\n",
      "Epoch 43/60\n",
      "49/49 [==============================] - 9s 185ms/step - loss: 0.0826 - binary_accuracy: 0.9592 - val_loss: 0.0190 - val_binary_accuracy: 1.0000\n",
      "Epoch 44/60\n",
      "49/49 [==============================] - 9s 185ms/step - loss: 0.0778 - binary_accuracy: 0.9714 - val_loss: 0.0030 - val_binary_accuracy: 1.0000\n",
      "Epoch 45/60\n",
      "49/49 [==============================] - 9s 185ms/step - loss: 0.0727 - binary_accuracy: 0.9755 - val_loss: 0.0028 - val_binary_accuracy: 1.0000\n",
      "Epoch 46/60\n",
      "49/49 [==============================] - 9s 188ms/step - loss: 0.0711 - binary_accuracy: 0.9714 - val_loss: 9.2863e-04 - val_binary_accuracy: 1.0000\n",
      "Epoch 47/60\n",
      "49/49 [==============================] - 9s 188ms/step - loss: 0.0582 - binary_accuracy: 0.9755 - val_loss: 0.0110 - val_binary_accuracy: 1.0000\n",
      "Epoch 48/60\n",
      "49/49 [==============================] - 9s 183ms/step - loss: 0.0861 - binary_accuracy: 0.9633 - val_loss: 9.8206e-04 - val_binary_accuracy: 1.0000\n",
      "Epoch 49/60\n",
      "49/49 [==============================] - 9s 193ms/step - loss: 0.0257 - binary_accuracy: 1.0000 - val_loss: 5.0281e-04 - val_binary_accuracy: 1.0000\n",
      "Epoch 50/60\n",
      "49/49 [==============================] - 9s 188ms/step - loss: 0.0289 - binary_accuracy: 0.9918 - val_loss: 5.3730e-04 - val_binary_accuracy: 1.0000\n",
      "Epoch 51/60\n",
      "49/49 [==============================] - 9s 186ms/step - loss: 0.1451 - binary_accuracy: 0.9459 - val_loss: 0.0029 - val_binary_accuracy: 1.0000\n",
      "Epoch 52/60\n",
      "49/49 [==============================] - 9s 191ms/step - loss: 0.0531 - binary_accuracy: 0.9837 - val_loss: 0.0286 - val_binary_accuracy: 0.9792\n",
      "Epoch 53/60\n",
      "49/49 [==============================] - 9s 182ms/step - loss: 0.0634 - binary_accuracy: 0.9755 - val_loss: 0.0027 - val_binary_accuracy: 1.0000\n",
      "Epoch 54/60\n",
      "49/49 [==============================] - 9s 185ms/step - loss: 0.0709 - binary_accuracy: 0.9755 - val_loss: 0.1169 - val_binary_accuracy: 0.9792\n",
      "Epoch 55/60\n",
      "49/49 [==============================] - 9s 183ms/step - loss: 0.0352 - binary_accuracy: 0.9878 - val_loss: 0.0038 - val_binary_accuracy: 1.0000\n",
      "Epoch 56/60\n",
      "49/49 [==============================] - 9s 179ms/step - loss: 0.0372 - binary_accuracy: 0.9837 - val_loss: 1.7566e-04 - val_binary_accuracy: 1.0000\n",
      "Epoch 57/60\n",
      "49/49 [==============================] - 9s 189ms/step - loss: 0.1429 - binary_accuracy: 0.9592 - val_loss: 0.0091 - val_binary_accuracy: 1.0000\n",
      "Epoch 58/60\n",
      "49/49 [==============================] - 9s 182ms/step - loss: 0.0421 - binary_accuracy: 0.9796 - val_loss: 2.6691e-04 - val_binary_accuracy: 1.0000\n",
      "Epoch 59/60\n",
      "49/49 [==============================] - 10s 201ms/step - loss: 0.0104 - binary_accuracy: 1.0000 - val_loss: 1.1283e-04 - val_binary_accuracy: 1.0000\n",
      "Epoch 60/60\n",
      "49/49 [==============================] - 9s 186ms/step - loss: 0.0219 - binary_accuracy: 0.9918 - val_loss: 1.4756e-04 - val_binary_accuracy: 1.0000\n"
     ]
    }
   ],
   "source": [
    "from PIL import Image\n",
    "history = model.fit_generator(train_generator,steps_per_epoch=len(train_generator),epochs=60,validation_data=validation_generator,validation_steps=len(validation_generator))"
   ]
  },
  {
   "cell_type": "code",
   "execution_count": 21,
   "metadata": {},
   "outputs": [],
   "source": [
    "model.save(\"../../model/Conv3_256_2by2_Adam_epoch60.h5\")"
   ]
  },
  {
   "cell_type": "code",
   "execution_count": 22,
   "metadata": {},
   "outputs": [
    {
     "data": {
      "image/png": "[encoded data removed]",
      "text/plain": [
       "<Figure size 432x288 with 1 Axes>"
      ]
     },
     "metadata": {
      "needs_background": "light"
     },
     "output_type": "display_data"
    },
    {
     "ename": "TypeError",
     "evalue": "imshow() missing 1 required positional argument: 'X'",
     "output_type": "error",
     "traceback": [
      "\u001b[0;31m---------------------------------------------------------------------------\u001b[0m",
      "\u001b[0;31mTypeError\u001b[0m                                 Traceback (most recent call last)",
      "\u001b[0;32m<ipython-input-22-085657092bcc>\u001b[0m in \u001b[0;36m<module>\u001b[0;34m\u001b[0m\n\u001b[1;32m     25\u001b[0m \u001b[0mplt\u001b[0m\u001b[0;34m.\u001b[0m\u001b[0mlegend\u001b[0m\u001b[0;34m(\u001b[0m\u001b[0;34m)\u001b[0m\u001b[0;34m\u001b[0m\u001b[0;34m\u001b[0m\u001b[0m\n\u001b[1;32m     26\u001b[0m \u001b[0mplt\u001b[0m\u001b[0;34m.\u001b[0m\u001b[0msavefig\u001b[0m\u001b[0;34m(\u001b[0m\u001b[0;34m'loss.png'\u001b[0m\u001b[0;34m)\u001b[0m\u001b[0;34m\u001b[0m\u001b[0;34m\u001b[0m\u001b[0m\n\u001b[0;32m---> 27\u001b[0;31m \u001b[0mplt\u001b[0m\u001b[0;34m.\u001b[0m\u001b[0mimshow\u001b[0m\u001b[0;34m(\u001b[0m\u001b[0;34m)\u001b[0m\u001b[0;34m\u001b[0m\u001b[0;34m\u001b[0m\u001b[0m\n\u001b[0m",
      "\u001b[0;31mTypeError\u001b[0m: imshow() missing 1 required positional argument: 'X'"
     ]
    },
    {
     "data": {
      "image/png": "[encoded data removed]",
      "text/plain": [
       "<Figure size 432x288 with 1 Axes>"
      ]
     },
     "metadata": {
      "needs_background": "light"
     },
     "output_type": "display_data"
    }
   ],
   "source": [
    "#画出结果\n",
    "import matplotlib.pyplot as plt\n",
    "\n",
    "#查看变量，发现history.history中就只有这四个值，分别是准确度，验证集准确度，损失，验证集损失\n",
    "acc = history.history['binary_accuracy']\n",
    "val_acc = history.history['val_binary_accuracy']\n",
    "loss = history.history['loss']\n",
    "val_loss = history.history['val_loss']\n",
    "epochs = range(1, len(acc) + 1)\n",
    "\n",
    "#画两个图，分别是正确率和验证损失率\n",
    "#正确率\n",
    "plt.figure(1)\n",
    "plt.plot(epochs, acc, 'bo', label='Training acc')\n",
    "plt.plot(epochs, val_acc, 'b', label='Validation acc')\n",
    "plt.title('Training and validation accuracy')\n",
    "plt.legend()\n",
    "plt.savefig('acc.png')\n",
    "plt.show()\n",
    "#损失\n",
    "plt.figure(2)\n",
    "plt.plot(epochs, loss, 'bo', label='Training loss')\n",
    "plt.plot(epochs, val_loss, 'b', label='Validation loss')\n",
    "plt.title('Training and validation loss')\n",
    "plt.legend()\n",
    "plt.savefig('loss.png')\n",
    "plt.show()\n"
   ]
  },
  {
   "cell_type": "code",
   "execution_count": null,
   "metadata": {},
   "outputs": [],
   "source": []
  }
 ],
 "metadata": {
  "kernelspec": {
   "display_name": "Python 3",
   "language": "python",
   "name": "python3"
  },
  "language_info": {
   "codemirror_mode": {
    "name": "ipython",
    "version": 3
   },
   "file_extension": ".py",
   "mimetype": "text/x-python",
   "name": "python",
   "nbconvert_exporter": "python",
   "pygments_lexer": "ipython3",
   "version": "3.7.4"
  }
 },
 "nbformat": 4,
 "nbformat_minor": 2
}
