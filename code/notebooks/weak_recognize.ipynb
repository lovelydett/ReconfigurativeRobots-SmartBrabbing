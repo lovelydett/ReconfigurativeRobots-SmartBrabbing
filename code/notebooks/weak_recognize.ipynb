{
 "cells": [
  {
   "cell_type": "code",
   "execution_count": 1,
   "metadata": {},
   "outputs": [
    {
     "name": "stderr",
     "output_type": "stream",
     "text": [
      "/home/prj201904037/miniconda3/lib/python3.7/site-packages/tensorflow/python/framework/dtypes.py:516: FutureWarning: Passing (type, 1) or '1type' as a synonym of type is deprecated; in a future version of numpy, it will be understood as (type, (1,)) / '(1,)type'.\n",
      "  _np_qint8 = np.dtype([(\"qint8\", np.int8, 1)])\n",
      "/home/prj201904037/miniconda3/lib/python3.7/site-packages/tensorflow/python/framework/dtypes.py:517: FutureWarning: Passing (type, 1) or '1type' as a synonym of type is deprecated; in a future version of numpy, it will be understood as (type, (1,)) / '(1,)type'.\n",
      "  _np_quint8 = np.dtype([(\"quint8\", np.uint8, 1)])\n",
      "/home/prj201904037/miniconda3/lib/python3.7/site-packages/tensorflow/python/framework/dtypes.py:518: FutureWarning: Passing (type, 1) or '1type' as a synonym of type is deprecated; in a future version of numpy, it will be understood as (type, (1,)) / '(1,)type'.\n",
      "  _np_qint16 = np.dtype([(\"qint16\", np.int16, 1)])\n",
      "/home/prj201904037/miniconda3/lib/python3.7/site-packages/tensorflow/python/framework/dtypes.py:519: FutureWarning: Passing (type, 1) or '1type' as a synonym of type is deprecated; in a future version of numpy, it will be understood as (type, (1,)) / '(1,)type'.\n",
      "  _np_quint16 = np.dtype([(\"quint16\", np.uint16, 1)])\n",
      "/home/prj201904037/miniconda3/lib/python3.7/site-packages/tensorflow/python/framework/dtypes.py:520: FutureWarning: Passing (type, 1) or '1type' as a synonym of type is deprecated; in a future version of numpy, it will be understood as (type, (1,)) / '(1,)type'.\n",
      "  _np_qint32 = np.dtype([(\"qint32\", np.int32, 1)])\n",
      "/home/prj201904037/miniconda3/lib/python3.7/site-packages/tensorflow/python/framework/dtypes.py:525: FutureWarning: Passing (type, 1) or '1type' as a synonym of type is deprecated; in a future version of numpy, it will be understood as (type, (1,)) / '(1,)type'.\n",
      "  np_resource = np.dtype([(\"resource\", np.ubyte, 1)])\n",
      "/home/prj201904037/miniconda3/lib/python3.7/site-packages/tensorboard/compat/tensorflow_stub/dtypes.py:541: FutureWarning: Passing (type, 1) or '1type' as a synonym of type is deprecated; in a future version of numpy, it will be understood as (type, (1,)) / '(1,)type'.\n",
      "  _np_qint8 = np.dtype([(\"qint8\", np.int8, 1)])\n",
      "/home/prj201904037/miniconda3/lib/python3.7/site-packages/tensorboard/compat/tensorflow_stub/dtypes.py:542: FutureWarning: Passing (type, 1) or '1type' as a synonym of type is deprecated; in a future version of numpy, it will be understood as (type, (1,)) / '(1,)type'.\n",
      "  _np_quint8 = np.dtype([(\"quint8\", np.uint8, 1)])\n",
      "/home/prj201904037/miniconda3/lib/python3.7/site-packages/tensorboard/compat/tensorflow_stub/dtypes.py:543: FutureWarning: Passing (type, 1) or '1type' as a synonym of type is deprecated; in a future version of numpy, it will be understood as (type, (1,)) / '(1,)type'.\n",
      "  _np_qint16 = np.dtype([(\"qint16\", np.int16, 1)])\n",
      "/home/prj201904037/miniconda3/lib/python3.7/site-packages/tensorboard/compat/tensorflow_stub/dtypes.py:544: FutureWarning: Passing (type, 1) or '1type' as a synonym of type is deprecated; in a future version of numpy, it will be understood as (type, (1,)) / '(1,)type'.\n",
      "  _np_quint16 = np.dtype([(\"quint16\", np.uint16, 1)])\n",
      "/home/prj201904037/miniconda3/lib/python3.7/site-packages/tensorboard/compat/tensorflow_stub/dtypes.py:545: FutureWarning: Passing (type, 1) or '1type' as a synonym of type is deprecated; in a future version of numpy, it will be understood as (type, (1,)) / '(1,)type'.\n",
      "  _np_qint32 = np.dtype([(\"qint32\", np.int32, 1)])\n",
      "/home/prj201904037/miniconda3/lib/python3.7/site-packages/tensorboard/compat/tensorflow_stub/dtypes.py:550: FutureWarning: Passing (type, 1) or '1type' as a synonym of type is deprecated; in a future version of numpy, it will be understood as (type, (1,)) / '(1,)type'.\n",
      "  np_resource = np.dtype([(\"resource\", np.ubyte, 1)])\n",
      "Using TensorFlow backend.\n"
     ]
    }
   ],
   "source": [
    "import os\n",
    "import tensorflow as tf\n",
    "import keras.backend.tensorflow_backend as KTF\n",
    "from keras.applications.vgg16 import VGG16\n",
    "from keras.models import Sequential\n",
    "from keras.layers import Conv2D,MaxPooling2D,Activation,Dropout,Flatten,Dense\n",
    "from keras.optimizers import SGD, Adam\n",
    "from keras.preprocessing.image import ImageDataGenerator,img_to_array,load_img\n",
    "import numpy as np\n",
    "import PIL\n",
    "import keras"
   ]
  },
  {
   "cell_type": "code",
   "execution_count": 2,
   "metadata": {},
   "outputs": [],
   "source": [
    "#设置显卡使用情况和限制显存使用情况\n",
    "# 指定第一块GPU可用 \n",
    "import os\n",
    "os.environ[\"CUDA_VISIBLE_DEVICES\"] = \"2\" #Titan XP\n",
    "config = tf.ConfigProto()  \n",
    "config.gpu_options.allow_growth=True   #不全部占满显存, 按需分配\n",
    "sess = tf.Session(config=config)"
   ]
  },
  {
   "cell_type": "code",
   "execution_count": 61,
   "metadata": {},
   "outputs": [
    {
     "name": "stdout",
     "output_type": "stream",
     "text": [
      "_________________________________________________________________\n",
      "Layer (type)                 Output Shape              Param #   \n",
      "=================================================================\n",
      "conv2d_44 (Conv2D)           (None, 511, 511, 100)     1300      \n",
      "_________________________________________________________________\n",
      "activation_74 (Activation)   (None, 511, 511, 100)     0         \n",
      "_________________________________________________________________\n",
      "max_pooling2d_44 (MaxPooling (None, 127, 127, 100)     0         \n",
      "_________________________________________________________________\n",
      "conv2d_45 (Conv2D)           (None, 126, 126, 100)     40100     \n",
      "_________________________________________________________________\n",
      "activation_75 (Activation)   (None, 126, 126, 100)     0         \n",
      "_________________________________________________________________\n",
      "max_pooling2d_45 (MaxPooling (None, 31, 31, 100)       0         \n",
      "_________________________________________________________________\n",
      "conv2d_46 (Conv2D)           (None, 30, 30, 100)       40100     \n",
      "_________________________________________________________________\n",
      "activation_76 (Activation)   (None, 30, 30, 100)       0         \n",
      "_________________________________________________________________\n",
      "max_pooling2d_46 (MaxPooling (None, 7, 7, 100)         0         \n",
      "_________________________________________________________________\n",
      "flatten_16 (Flatten)         (None, 4900)              0         \n",
      "_________________________________________________________________\n",
      "dense_31 (Dense)             (None, 50)                245050    \n",
      "_________________________________________________________________\n",
      "activation_77 (Activation)   (None, 50)                0         \n",
      "_________________________________________________________________\n",
      "dense_32 (Dense)             (None, 1)                 51        \n",
      "_________________________________________________________________\n",
      "activation_78 (Activation)   (None, 1)                 0         \n",
      "=================================================================\n",
      "Total params: 326,601\n",
      "Trainable params: 326,601\n",
      "Non-trainable params: 0\n",
      "_________________________________________________________________\n"
     ]
    }
   ],
   "source": [
    "#3层卷积\n",
    "imgSize = 512  #图片尺寸\n",
    "imgChan = 1    #1通道\n",
    "kernelInit = 'uniform'  #卷积核初始化方式\n",
    "nHiddenUnits = 50\n",
    "maxpoolSize = (4,4)\n",
    "nFilters = 100 #130 before \n",
    "kernelSize = (2,2)\n",
    "inputStrides = 1\n",
    "costFunction = 'categorical_crossentropy' #代价函数:不同于损失函数，代价函数在整个训练集上计算\n",
    "early_stop_delta = 0.01 # 0.01 change or above is considered improvement\n",
    "early_stop_patience = 10 \n",
    "\n",
    "model=Sequential()\n",
    "\n",
    "model.add(Conv2D(filters=nFilters, kernel_size = kernelSize ,strides= inputStrides,\n",
    "                 input_shape=(imgSize,imgSize,3),kernel_initializer= kernelInit))\n",
    "model.add(Activation('relu'))\n",
    "\n",
    "\n",
    "\n",
    "model.add(MaxPooling2D(pool_size=maxpoolSize))\n",
    "\n",
    "\n",
    "model.add(Conv2D(filters=nFilters, kernel_size = kernelSize ,strides= inputStrides,\n",
    "                 kernel_initializer= kernelInit))\n",
    "model.add(Activation('relu'))\n",
    "model.add(MaxPooling2D(pool_size=maxpoolSize))\n",
    "\n",
    "\n",
    "model.add(Conv2D(filters=nFilters, kernel_size = kernelSize ,strides= inputStrides,\n",
    "                 kernel_initializer= kernelInit))\n",
    "model.add(Activation('relu'))\n",
    "model.add(MaxPooling2D(pool_size=maxpoolSize))\n",
    "\n",
    "# model.add(Conv2D(filters=nFilters, kernel_size = kernelSize ,strides= inputStrides,\n",
    "#                  kernel_initializer= kernelInit))\n",
    "# model.add(Activation('relu'))\n",
    "# model.add(MaxPooling2D(pool_size=maxpoolSize))\n",
    "\n",
    "\n",
    "model.add(Flatten())\n",
    "model.add(Dense(nHiddenUnits))\n",
    "model.add(Activation('relu'))\n",
    "model.add(Dense(1))\n",
    "model.add(Activation('sigmoid'))\n",
    "\n",
    "earlyStopping = keras.callbacks.EarlyStopping(monitor='val_loss', min_delta=early_stop_delta, patience=early_stop_patience, verbose=2, mode='auto')\n",
    "\n",
    "model.summary()"
   ]
  },
  {
   "cell_type": "code",
   "execution_count": 62,
   "metadata": {},
   "outputs": [
    {
     "name": "stdout",
     "output_type": "stream",
     "text": [
      "Found 260 images belonging to 2 classes.\n",
      "Found 23 images belonging to 2 classes.\n"
     ]
    }
   ],
   "source": [
    "#测试 ImageDataGenerator\n",
    "train_datagen = ImageDataGenerator(\n",
    "    rotation_range = 40,     # 随机旋转度数\n",
    "    width_shift_range = 0.2, # 随机水平平移\n",
    "    height_shift_range = 0.2,# 随机竖直平移\n",
    "    rescale = 1/255,         # 数据归一化\n",
    "    shear_range = 20,       # 随机错切变换\n",
    "    zoom_range = 0.2,        # 随机放大\n",
    "    horizontal_flip = True,  # 水平翻转\n",
    "    fill_mode = 'nearest',   # 填充方式\n",
    ")\n",
    "test_datagen = ImageDataGenerator(\n",
    "    rescale = 1/255,         # 数据归一化\n",
    ")\n",
    "\n",
    "validation_datagen = ImageDataGenerator(\n",
    "    rescale = 1/255,)\n",
    "\n",
    "\n",
    "batch_size = 5\n",
    "# 生成训练数据\n",
    "train_generator = train_datagen.flow_from_directory(\n",
    "    '../../data/imgProcessed/train_MandS',\n",
    "    target_size=(imgSize,imgSize),\n",
    "#     color_mode = \"grayscale\",\n",
    "    batch_size=batch_size,\n",
    "    class_mode='binary',\n",
    "    )\n",
    "\n",
    "#验证集\n",
    "validation_generator = validation_datagen.flow_from_directory(\n",
    "    '../../data/imgProcessed/validation_MandS',\n",
    "    target_size=(imgSize,imgSize),\n",
    "#     color_mode = \"grayscale\",\n",
    "    batch_size=batch_size,\n",
    "    class_mode='binary',\n",
    "    )"
   ]
  },
  {
   "cell_type": "code",
   "execution_count": 63,
   "metadata": {},
   "outputs": [
    {
     "data": {
      "text/plain": [
       "{'no': 0, 'yes': 1}"
      ]
     },
     "execution_count": 63,
     "metadata": {},
     "output_type": "execute_result"
    }
   ],
   "source": [
    "train_generator.class_indices"
   ]
  },
  {
   "cell_type": "code",
   "execution_count": 64,
   "metadata": {},
   "outputs": [],
   "source": [
    "model.compile(optimizer=Adam(lr=0.00005, beta_1=0.9, beta_2=0.999, epsilon=1e-08),loss=\"binary_crossentropy\",metrics=['binary_accuracy'])"
   ]
  },
  {
   "cell_type": "code",
   "execution_count": 68,
   "metadata": {},
   "outputs": [
    {
     "name": "stdout",
     "output_type": "stream",
     "text": [
      "Epoch 1/20\n",
      "52/52 [==============================] - 21s 413ms/step - loss: 0.0720 - binary_accuracy: 0.9769 - val_loss: 0.1403 - val_binary_accuracy: 0.9565\n",
      "Epoch 2/20\n",
      "52/52 [==============================] - 21s 397ms/step - loss: 0.0721 - binary_accuracy: 0.9769 - val_loss: 0.2036 - val_binary_accuracy: 0.9130\n",
      "Epoch 3/20\n",
      "52/52 [==============================] - 22s 426ms/step - loss: 0.0706 - binary_accuracy: 0.9769 - val_loss: 0.2991 - val_binary_accuracy: 0.8261\n",
      "Epoch 4/20\n",
      "52/52 [==============================] - 21s 399ms/step - loss: 0.0586 - binary_accuracy: 0.9808 - val_loss: 0.2448 - val_binary_accuracy: 0.9130\n",
      "Epoch 5/20\n",
      "52/52 [==============================] - 22s 425ms/step - loss: 0.0521 - binary_accuracy: 0.9769 - val_loss: 0.2252 - val_binary_accuracy: 0.9130\n",
      "Epoch 6/20\n",
      "52/52 [==============================] - 21s 410ms/step - loss: 0.0456 - binary_accuracy: 0.9923 - val_loss: 0.2511 - val_binary_accuracy: 0.8696\n",
      "Epoch 7/20\n",
      "52/52 [==============================] - 21s 403ms/step - loss: 0.0353 - binary_accuracy: 0.9923 - val_loss: 0.2510 - val_binary_accuracy: 0.8696\n",
      "Epoch 8/20\n",
      "52/52 [==============================] - 21s 409ms/step - loss: 0.0230 - binary_accuracy: 0.9923 - val_loss: 0.4401 - val_binary_accuracy: 0.7826\n",
      "Epoch 9/20\n",
      "52/52 [==============================] - 21s 413ms/step - loss: 0.0178 - binary_accuracy: 1.0000 - val_loss: 0.2805 - val_binary_accuracy: 0.8696\n",
      "Epoch 10/20\n",
      "52/52 [==============================] - 22s 415ms/step - loss: 0.0331 - binary_accuracy: 0.9923 - val_loss: 0.2892 - val_binary_accuracy: 0.8696\n",
      "Epoch 11/20\n",
      "52/52 [==============================] - 22s 419ms/step - loss: 0.0229 - binary_accuracy: 0.9962 - val_loss: 0.3051 - val_binary_accuracy: 0.8696\n",
      "Epoch 12/20\n",
      "52/52 [==============================] - 20s 388ms/step - loss: 0.0187 - binary_accuracy: 0.9962 - val_loss: 0.3680 - val_binary_accuracy: 0.8696\n",
      "Epoch 13/20\n",
      "52/52 [==============================] - 20s 394ms/step - loss: 0.0554 - binary_accuracy: 0.9846 - val_loss: 0.3658 - val_binary_accuracy: 0.8696\n",
      "Epoch 14/20\n",
      "52/52 [==============================] - 21s 408ms/step - loss: 0.0262 - binary_accuracy: 0.9923 - val_loss: 0.3806 - val_binary_accuracy: 0.8696\n",
      "Epoch 15/20\n",
      "52/52 [==============================] - 20s 385ms/step - loss: 0.0249 - binary_accuracy: 0.9885 - val_loss: 0.3486 - val_binary_accuracy: 0.8696\n",
      "Epoch 16/20\n",
      "52/52 [==============================] - 21s 399ms/step - loss: 0.0423 - binary_accuracy: 0.9885 - val_loss: 0.2891 - val_binary_accuracy: 0.8696\n",
      "Epoch 17/20\n",
      "52/52 [==============================] - 21s 395ms/step - loss: 0.0231 - binary_accuracy: 0.9885 - val_loss: 0.6798 - val_binary_accuracy: 0.8261\n",
      "Epoch 18/20\n",
      "52/52 [==============================] - 20s 386ms/step - loss: 0.0179 - binary_accuracy: 0.9962 - val_loss: 0.2291 - val_binary_accuracy: 0.8696\n",
      "Epoch 19/20\n",
      "52/52 [==============================] - 20s 388ms/step - loss: 0.0147 - binary_accuracy: 1.0000 - val_loss: 0.7346 - val_binary_accuracy: 0.7826\n",
      "Epoch 20/20\n",
      "52/52 [==============================] - 20s 391ms/step - loss: 0.0087 - binary_accuracy: 1.0000 - val_loss: 0.4775 - val_binary_accuracy: 0.8261\n"
     ]
    }
   ],
   "source": [
    "from PIL import Image\n",
    "history = model.fit_generator(train_generator,steps_per_epoch=len(train_generator),epochs=20,validation_data=validation_generator,validation_steps=len(validation_generator))"
   ]
  },
  {
   "cell_type": "code",
   "execution_count": 37,
   "metadata": {},
   "outputs": [],
   "source": [
    "model.save(\"../../model/MandS_Conv3_512_mp2by2_ker2by2_Adam_filter60_epoch10.h5\")"
   ]
  },
  {
   "cell_type": "code",
   "execution_count": 69,
   "metadata": {},
   "outputs": [
    {
     "data": {
      "image/png": "[encoded data removed]",
      "text/plain": [
       "<Figure size 432x288 with 1 Axes>"
      ]
     },
     "metadata": {
      "needs_background": "light"
     },
     "output_type": "display_data"
    },
    {
     "data": {
      "image/png": "[encoded data removed]",
      "text/plain": [
       "<Figure size 432x288 with 1 Axes>"
      ]
     },
     "metadata": {
      "needs_background": "light"
     },
     "output_type": "display_data"
    }
   ],
   "source": [
    "#画出结果\n",
    "import matplotlib.pyplot as plt\n",
    "\n",
    "#查看变量，发现history.history中就只有这四个值，分别是准确度，验证集准确度，损失，验证集损失\n",
    "acc = history.history['binary_accuracy']\n",
    "val_acc = history.history['val_binary_accuracy']\n",
    "loss = history.history['loss']\n",
    "val_loss = history.history['val_loss']\n",
    "epochs = range(1, len(acc) + 1)\n",
    "\n",
    "#画两个图，分别是正确率和验证损失率\n",
    "#正确率\n",
    "plt.figure(1)\n",
    "plt.plot(epochs, acc, 'bo', label='Training acc')\n",
    "plt.plot(epochs, val_acc, 'b', label='Validation acc')\n",
    "plt.title('Training and validation accuracy')\n",
    "plt.legend()\n",
    "plt.savefig('acc.png')\n",
    "plt.show()\n",
    "#损失\n",
    "plt.figure(2)\n",
    "plt.plot(epochs, loss, 'bo', label='Training loss')\n",
    "plt.plot(epochs, val_loss, 'b', label='Validation loss')\n",
    "plt.title('Training and validation loss')\n",
    "plt.legend()\n",
    "plt.savefig('loss.png')\n",
    "plt.show()"
   ]
  },
  {
   "cell_type": "code",
   "execution_count": 70,
   "metadata": {},
   "outputs": [
    {
     "name": "stdout",
     "output_type": "stream",
     "text": [
      "yes predicted as:  no\n",
      "yes predicted as:  yes\n",
      "yes predicted as:  no\n",
      "yes predicted as:  yes\n",
      "yes predicted as:  no\n",
      "yes predicted as:  yes\n",
      "yes predicted as:  yes\n",
      "no predicted as:  no\n",
      "no predicted as:  no\n",
      "no predicted as:  no\n",
      "no predicted as:  no\n",
      "no predicted as:  no\n",
      "no predicted as:  no\n",
      "no predicted as:  no\n",
      "no predicted as:  no\n",
      "no predicted as:  no\n",
      "no predicted as:  no\n"
     ]
    }
   ],
   "source": [
    "#手动预测：\n",
    "from PIL import ImageFilter\n",
    "with open(\"../../data/imgProcessed/test_MandS/yes/names.txt\") as file:\n",
    "    for line in file.readlines():\n",
    "        if line==\"\":\n",
    "            break;\n",
    "        img = Image.open(\"../../data/imgProcessed/test_MandS/yes/\"+line.strip(\"\\n\"))\n",
    "        img = img.resize((imgSize,imgSize),Image.ANTIALIAS)\n",
    "        img = img.filter(ImageFilter.EDGE_ENHANCE)\n",
    "        img = img.filter(ImageFilter.DETAIL)\n",
    "        #img = img.filter(ImageFilter.RankFilter(5, 8))\n",
    "        pred_value = model.predict(np.array(img).reshape((1,imgSize,imgSize,3))/255)[0]\n",
    "        print(\"yes predicted as: \",'no'if pred_value<0.5 else 'yes')\n",
    "        if(pred_value>=0.5):\n",
    "            img.save(line.strip(\"\\n\"))\n",
    "with open(\"../../data/imgProcessed/test_MandS/no/names.txt\") as file:\n",
    "    for line in file.readlines():\n",
    "        if line==\"\":\n",
    "            break;\n",
    "        img = Image.open(\"../../data/imgProcessed/test_MandS/no/\"+line.strip(\"\\n\"))\n",
    "        img = img.resize((imgSize,imgSize),Image.ANTIALIAS)\n",
    "        img = img.filter(ImageFilter.EDGE_ENHANCE)\n",
    "        img = img.filter(ImageFilter.DETAIL)\n",
    "        #img = img.filter(ImageFilter.RankFilter(5, 8))\n",
    "        pred_value = model.predict(np.array(img).reshape((1,imgSize,imgSize,3))/255)[0]\n",
    "        print(\"no predicted as: \",'no'if pred_value<0.5 else 'yes')\n",
    "        if(pred_value<0.5):\n",
    "            img.save(line.strip(\"\\n\"))"
   ]
  },
  {
   "cell_type": "code",
   "execution_count": null,
   "metadata": {},
   "outputs": [],
   "source": []
  }
 ],
 "metadata": {
  "kernelspec": {
   "display_name": "Python 3",
   "language": "python",
   "name": "python3"
  },
  "language_info": {
   "codemirror_mode": {
    "name": "ipython",
    "version": 3
   },
   "file_extension": ".py",
   "mimetype": "text/x-python",
   "name": "python",
   "nbconvert_exporter": "python",
   "pygments_lexer": "ipython3",
   "version": "3.7.4"
  }
 },
 "nbformat": 4,
 "nbformat_minor": 2
}
