{
 "cells": [
  {
   "cell_type": "code",
   "execution_count": 2,
   "metadata": {},
   "outputs": [
    {
     "name": "stderr",
     "output_type": "stream",
     "text": [
      "/home/prj201904037/miniconda3/lib/python3.7/site-packages/tensorflow/python/framework/dtypes.py:516: FutureWarning: Passing (type, 1) or '1type' as a synonym of type is deprecated; in a future version of numpy, it will be understood as (type, (1,)) / '(1,)type'.\n",
      "  _np_qint8 = np.dtype([(\"qint8\", np.int8, 1)])\n",
      "/home/prj201904037/miniconda3/lib/python3.7/site-packages/tensorflow/python/framework/dtypes.py:517: FutureWarning: Passing (type, 1) or '1type' as a synonym of type is deprecated; in a future version of numpy, it will be understood as (type, (1,)) / '(1,)type'.\n",
      "  _np_quint8 = np.dtype([(\"quint8\", np.uint8, 1)])\n",
      "/home/prj201904037/miniconda3/lib/python3.7/site-packages/tensorflow/python/framework/dtypes.py:518: FutureWarning: Passing (type, 1) or '1type' as a synonym of type is deprecated; in a future version of numpy, it will be understood as (type, (1,)) / '(1,)type'.\n",
      "  _np_qint16 = np.dtype([(\"qint16\", np.int16, 1)])\n",
      "/home/prj201904037/miniconda3/lib/python3.7/site-packages/tensorflow/python/framework/dtypes.py:519: FutureWarning: Passing (type, 1) or '1type' as a synonym of type is deprecated; in a future version of numpy, it will be understood as (type, (1,)) / '(1,)type'.\n",
      "  _np_quint16 = np.dtype([(\"quint16\", np.uint16, 1)])\n",
      "/home/prj201904037/miniconda3/lib/python3.7/site-packages/tensorflow/python/framework/dtypes.py:520: FutureWarning: Passing (type, 1) or '1type' as a synonym of type is deprecated; in a future version of numpy, it will be understood as (type, (1,)) / '(1,)type'.\n",
      "  _np_qint32 = np.dtype([(\"qint32\", np.int32, 1)])\n",
      "/home/prj201904037/miniconda3/lib/python3.7/site-packages/tensorflow/python/framework/dtypes.py:525: FutureWarning: Passing (type, 1) or '1type' as a synonym of type is deprecated; in a future version of numpy, it will be understood as (type, (1,)) / '(1,)type'.\n",
      "  np_resource = np.dtype([(\"resource\", np.ubyte, 1)])\n",
      "/home/prj201904037/miniconda3/lib/python3.7/site-packages/tensorboard/compat/tensorflow_stub/dtypes.py:541: FutureWarning: Passing (type, 1) or '1type' as a synonym of type is deprecated; in a future version of numpy, it will be understood as (type, (1,)) / '(1,)type'.\n",
      "  _np_qint8 = np.dtype([(\"qint8\", np.int8, 1)])\n",
      "/home/prj201904037/miniconda3/lib/python3.7/site-packages/tensorboard/compat/tensorflow_stub/dtypes.py:542: FutureWarning: Passing (type, 1) or '1type' as a synonym of type is deprecated; in a future version of numpy, it will be understood as (type, (1,)) / '(1,)type'.\n",
      "  _np_quint8 = np.dtype([(\"quint8\", np.uint8, 1)])\n",
      "/home/prj201904037/miniconda3/lib/python3.7/site-packages/tensorboard/compat/tensorflow_stub/dtypes.py:543: FutureWarning: Passing (type, 1) or '1type' as a synonym of type is deprecated; in a future version of numpy, it will be understood as (type, (1,)) / '(1,)type'.\n",
      "  _np_qint16 = np.dtype([(\"qint16\", np.int16, 1)])\n",
      "/home/prj201904037/miniconda3/lib/python3.7/site-packages/tensorboard/compat/tensorflow_stub/dtypes.py:544: FutureWarning: Passing (type, 1) or '1type' as a synonym of type is deprecated; in a future version of numpy, it will be understood as (type, (1,)) / '(1,)type'.\n",
      "  _np_quint16 = np.dtype([(\"quint16\", np.uint16, 1)])\n",
      "/home/prj201904037/miniconda3/lib/python3.7/site-packages/tensorboard/compat/tensorflow_stub/dtypes.py:545: FutureWarning: Passing (type, 1) or '1type' as a synonym of type is deprecated; in a future version of numpy, it will be understood as (type, (1,)) / '(1,)type'.\n",
      "  _np_qint32 = np.dtype([(\"qint32\", np.int32, 1)])\n",
      "/home/prj201904037/miniconda3/lib/python3.7/site-packages/tensorboard/compat/tensorflow_stub/dtypes.py:550: FutureWarning: Passing (type, 1) or '1type' as a synonym of type is deprecated; in a future version of numpy, it will be understood as (type, (1,)) / '(1,)type'.\n",
      "  np_resource = np.dtype([(\"resource\", np.ubyte, 1)])\n",
      "Using TensorFlow backend.\n"
     ]
    }
   ],
   "source": [
    "import os\n",
    "import tensorflow as tf\n",
    "import keras.backend.tensorflow_backend as KTF\n",
    "from keras.applications.vgg16 import VGG16\n",
    "from keras.models import Sequential\n",
    "from keras.layers import Conv2D,MaxPooling2D,Activation,Dropout,Flatten,Dense\n",
    "from keras.optimizers import SGD, Adam\n",
    "from keras.preprocessing.image import ImageDataGenerator,img_to_array,load_img\n",
    "import numpy as np\n",
    "import PIL\n",
    "import keras"
   ]
  },
  {
   "cell_type": "code",
   "execution_count": 3,
   "metadata": {},
   "outputs": [],
   "source": [
    "#设置显卡使用情况和限制显存使用情况\n",
    "# 指定第一块GPU可用 \n",
    "import os\n",
    "os.environ[\"CUDA_VISIBLE_DEVICES\"] = \"2\" #Titan XP\n",
    "config = tf.ConfigProto()  \n",
    "config.gpu_options.allow_growth=True   #不全部占满显存, 按需分配\n",
    "sess = tf.Session(config=config)"
   ]
  },
  {
   "cell_type": "code",
   "execution_count": 8,
   "metadata": {},
   "outputs": [
    {
     "name": "stdout",
     "output_type": "stream",
     "text": [
      "_________________________________________________________________\n",
      "Layer (type)                 Output Shape              Param #   \n",
      "=================================================================\n",
      "vgg16 (Model)                (None, 8, 8, 512)         14714688  \n",
      "_________________________________________________________________\n",
      "flatten_3 (Flatten)          (None, 32768)             0         \n",
      "_________________________________________________________________\n",
      "dense_5 (Dense)              (None, 30)                983070    \n",
      "_________________________________________________________________\n",
      "dropout_3 (Dropout)          (None, 30)                0         \n",
      "_________________________________________________________________\n",
      "dense_6 (Dense)              (None, 1)                 31        \n",
      "=================================================================\n",
      "Total params: 15,697,789\n",
      "Trainable params: 15,697,789\n",
      "Non-trainable params: 0\n",
      "_________________________________________________________________\n"
     ]
    }
   ],
   "source": [
    "imgSize = 256\n",
    "# VGG16 : 太容易过拟合 先不用\n",
    "model = Sequential()\n",
    "vgg16_model = VGG16(weights='imagenet',include_top=False, input_shape=(imgSize,imgSize,3))\n",
    "model.add(vgg16_model)\n",
    "model.add(Flatten(input_shape=vgg16_model.output_shape[1:]))\n",
    "model.add(Dense(30,activation='relu'))\n",
    "model.add(Dropout(0.5))\n",
    "model.add(Dense(1,activation='sigmoid'))\n",
    "\n",
    "\n",
    "# #3层卷积\n",
    "# imgSize = 512  #图片尺寸\n",
    "# imgChan = 1    #1通道\n",
    "# kernelInit = 'uniform'  #卷积核初始化方式\n",
    "# nHiddenUnits = 20\n",
    "# maxpoolSize = (4,4)\n",
    "# nFilters =60 #130 before \n",
    "# kernelSize = (8,8)\n",
    "# inputStrides = 2\n",
    "# costFunction = 'categorical_crossentropy' #代价函数:不同于损失函数，代价函数在整个训练集上计算\n",
    "# early_stop_delta = 0.01 # 0.01 change or above is considered improvement\n",
    "# early_stop_patience = 10 \n",
    "\n",
    "# model=Sequential()\n",
    "\n",
    "\n",
    "# model.add(Conv2D(filters=nFilters, kernel_size = kernelSize ,strides= inputStrides,\n",
    "#                  input_shape=(imgSize,imgSize,3),kernel_initializer= kernelInit))\n",
    "# model.add(Activation('relu'))\n",
    "# model.add(MaxPooling2D(pool_size=maxpoolSize))\n",
    "\n",
    "\n",
    "# model.add(Conv2D(filters=nFilters, kernel_size = kernelSize ,strides= inputStrides,\n",
    "#                  kernel_initializer= kernelInit))\n",
    "# model.add(Activation('relu'))\n",
    "# model.add(MaxPooling2D(pool_size=maxpoolSize))\n",
    "\n",
    "\n",
    "# # model.add(Conv2D(filters=nFilters, kernel_size = kernelSize ,strides= inputStrides,\n",
    "# #                  kernel_initializer= kernelInit))\n",
    "# # model.add(Activation('relu'))\n",
    "# # model.add(MaxPooling2D(pool_size=maxpoolSize))\n",
    "\n",
    "# # model.add(Conv2D(filters=nFilters, kernel_size = kernelSize ,strides= inputStrides,\n",
    "# #                  kernel_initializer= kernelInit))\n",
    "# # model.add(Activation('relu'))\n",
    "# # model.add(MaxPooling2D(pool_size=maxpoolSize))\n",
    "\n",
    "\n",
    "# model.add(Flatten())\n",
    "# model.add(Dense(nHiddenUnits))\n",
    "# model.add(Activation('relu'))\n",
    "# model.add(Dense(1))\n",
    "# model.add(Activation('sigmoid'))\n",
    "\n",
    "# earlyStopping = keras.callbacks.EarlyStopping(monitor='val_loss', min_delta=early_stop_delta, patience=early_stop_patience, verbose=2, mode='auto')\n",
    "\n",
    "model.summary()"
   ]
  },
  {
   "cell_type": "code",
   "execution_count": 9,
   "metadata": {},
   "outputs": [
    {
     "name": "stdout",
     "output_type": "stream",
     "text": [
      "Found 181 images belonging to 2 classes.\n",
      "Found 30 images belonging to 2 classes.\n"
     ]
    }
   ],
   "source": [
    "#测试 ImageDataGenerator\n",
    "train_datagen = ImageDataGenerator(\n",
    "    rotation_range = 40,     # 随机旋转度数\n",
    "    width_shift_range = 0.2, # 随机水平平移\n",
    "    height_shift_range = 0.2,# 随机竖直平移\n",
    "    rescale = 1/255,         # 数据归一化\n",
    "    shear_range = 20,       # 随机错切变换\n",
    "    zoom_range = 0.2,        # 随机放大\n",
    "    horizontal_flip = True,  # 水平翻转\n",
    "    fill_mode = 'nearest',   # 填充方式\n",
    ")\n",
    "test_datagen = ImageDataGenerator(\n",
    "    rescale = 1/255,         # 数据归一化\n",
    ")\n",
    "\n",
    "validation_datagen = ImageDataGenerator(\n",
    "    rescale = 1/255,)\n",
    "\n",
    "\n",
    "batch_size = 5\n",
    "# 生成训练数据\n",
    "train_generator = train_datagen.flow_from_directory(\n",
    "    '../../data/for_detect/train',\n",
    "    target_size=(imgSize,imgSize),\n",
    "#     color_mode = \"grayscale\",\n",
    "    batch_size=batch_size,\n",
    "    class_mode='binary',\n",
    "    )\n",
    "\n",
    "#验证集\n",
    "validation_generator = validation_datagen.flow_from_directory(\n",
    "    '../../data/for_detect/validation',\n",
    "    target_size=(imgSize,imgSize),\n",
    "#     color_mode = \"grayscale\",\n",
    "    batch_size=batch_size,\n",
    "    class_mode='binary',\n",
    "    )"
   ]
  },
  {
   "cell_type": "code",
   "execution_count": 10,
   "metadata": {},
   "outputs": [
    {
     "data": {
      "text/plain": [
       "{'no': 0, 'yes': 1}"
      ]
     },
     "execution_count": 10,
     "metadata": {},
     "output_type": "execute_result"
    }
   ],
   "source": [
    "train_generator.class_indices"
   ]
  },
  {
   "cell_type": "code",
   "execution_count": 11,
   "metadata": {},
   "outputs": [
    {
     "name": "stdout",
     "output_type": "stream",
     "text": [
      "WARNING:tensorflow:From /home/prj201904037/miniconda3/lib/python3.7/site-packages/keras/optimizers.py:790: The name tf.train.Optimizer is deprecated. Please use tf.compat.v1.train.Optimizer instead.\n",
      "\n",
      "WARNING:tensorflow:From /home/prj201904037/miniconda3/lib/python3.7/site-packages/tensorflow/python/ops/nn_impl.py:180: add_dispatch_support.<locals>.wrapper (from tensorflow.python.ops.array_ops) is deprecated and will be removed in a future version.\n",
      "Instructions for updating:\n",
      "Use tf.where in 2.0, which has the same broadcast rule as np.where\n"
     ]
    }
   ],
   "source": [
    "model.compile(optimizer=Adam(lr=0.00001, beta_1=0.9, beta_2=0.999, epsilon=1e-08),loss=\"binary_crossentropy\",metrics=['binary_accuracy'])"
   ]
  },
  {
   "cell_type": "code",
   "execution_count": 12,
   "metadata": {},
   "outputs": [
    {
     "name": "stdout",
     "output_type": "stream",
     "text": [
      "Epoch 1/10\n",
      "37/37 [==============================] - 8s 203ms/step - loss: 0.5946 - binary_accuracy: 0.6863 - val_loss: 0.1884 - val_binary_accuracy: 1.0000\n",
      "Epoch 2/10\n",
      "37/37 [==============================] - 5s 140ms/step - loss: 0.1649 - binary_accuracy: 0.9675 - val_loss: 0.0143 - val_binary_accuracy: 1.0000\n",
      "Epoch 3/10\n",
      "37/37 [==============================] - 5s 144ms/step - loss: 0.1020 - binary_accuracy: 0.9838 - val_loss: 0.0020 - val_binary_accuracy: 1.0000\n",
      "Epoch 4/10\n",
      "37/37 [==============================] - 5s 140ms/step - loss: 0.0349 - binary_accuracy: 0.9946 - val_loss: 0.0031 - val_binary_accuracy: 1.0000\n",
      "Epoch 5/10\n",
      "37/37 [==============================] - 5s 149ms/step - loss: 0.0336 - binary_accuracy: 0.9946 - val_loss: 9.3406e-05 - val_binary_accuracy: 1.0000\n",
      "Epoch 6/10\n",
      "37/37 [==============================] - 5s 144ms/step - loss: 0.0152 - binary_accuracy: 1.0000 - val_loss: 1.1188e-04 - val_binary_accuracy: 1.0000\n",
      "Epoch 7/10\n",
      "37/37 [==============================] - 5s 140ms/step - loss: 0.0090 - binary_accuracy: 0.9946 - val_loss: 1.3484e-05 - val_binary_accuracy: 1.0000\n",
      "Epoch 8/10\n",
      "37/37 [==============================] - 5s 137ms/step - loss: 0.0017 - binary_accuracy: 1.0000 - val_loss: 6.4965e-06 - val_binary_accuracy: 1.0000\n",
      "Epoch 9/10\n",
      "37/37 [==============================] - 5s 138ms/step - loss: 0.0061 - binary_accuracy: 0.9946 - val_loss: 8.3041e-06 - val_binary_accuracy: 1.0000\n",
      "Epoch 10/10\n",
      "37/37 [==============================] - 5s 137ms/step - loss: 0.0549 - binary_accuracy: 0.9892 - val_loss: 5.8594e-04 - val_binary_accuracy: 1.0000\n"
     ]
    }
   ],
   "source": [
    "from PIL import Image\n",
    "history = model.fit_generator(train_generator,steps_per_epoch=len(train_generator),epochs=10,validation_data=validation_generator,validation_steps=len(validation_generator))"
   ]
  },
  {
   "cell_type": "code",
   "execution_count": 13,
   "metadata": {},
   "outputs": [],
   "source": [
    "model.save(\"../../model/DETECT_VGG16_256_hid30_epoch10.h5\")"
   ]
  },
  {
   "cell_type": "code",
   "execution_count": 15,
   "metadata": {},
   "outputs": [
    {
     "data": {
      "image/png": "[encoded data removed]",
      "text/plain": [
       "<Figure size 432x288 with 1 Axes>"
      ]
     },
     "metadata": {
      "needs_background": "light"
     },
     "output_type": "display_data"
    },
    {
     "data": {
      "image/png": "[encoded data removed]",
      "text/plain": [
       "<Figure size 432x288 with 1 Axes>"
      ]
     },
     "metadata": {
      "needs_background": "light"
     },
     "output_type": "display_data"
    }
   ],
   "source": [
    "#画出结果\n",
    "import matplotlib.pyplot as plt\n",
    "\n",
    "#查看变量，发现history.history中就只有这四个值，分别是准确度，验证集准确度，损失，验证集损失\n",
    "acc = history.history['binary_accuracy']\n",
    "val_acc = history.history['val_binary_accuracy']\n",
    "loss = history.history['loss']\n",
    "val_loss = history.history['val_loss']\n",
    "epochs = range(1, len(acc) + 1)\n",
    "\n",
    "#画两个图，分别是正确率和验证损失率\n",
    "#正确率\n",
    "plt.figure(1)\n",
    "plt.plot(epochs, acc, 'bo', label='Training acc')\n",
    "plt.plot(epochs, val_acc, 'b', label='Validation acc')\n",
    "plt.title('Training and validation accuracy')\n",
    "plt.legend()\n",
    "plt.savefig('acc.png')\n",
    "plt.show()\n",
    "#损失\n",
    "plt.figure(2)\n",
    "plt.plot(epochs, loss, 'bo', label='Training loss')\n",
    "plt.plot(epochs, val_loss, 'b', label='Validation loss')\n",
    "plt.title('Training and validation loss')\n",
    "plt.legend()\n",
    "plt.savefig('loss.png')\n",
    "plt.show()"
   ]
  },
  {
   "cell_type": "code",
   "execution_count": 16,
   "metadata": {},
   "outputs": [
    {
     "name": "stdout",
     "output_type": "stream",
     "text": [
      "yes predicted as:  yes\n",
      "yes predicted as:  yes\n",
      "yes predicted as:  yes\n",
      "yes predicted as:  yes\n",
      "yes predicted as:  yes\n",
      "yes predicted as:  yes\n",
      "yes predicted as:  yes\n",
      "yes predicted as:  yes\n",
      "yes predicted as:  yes\n",
      "yes predicted as:  yes\n",
      "no predicted as:  no\n",
      "no predicted as:  no\n",
      "no predicted as:  no\n",
      "no predicted as:  no\n",
      "no predicted as:  no\n",
      "no predicted as:  no\n",
      "no predicted as:  no\n",
      "no predicted as:  no\n",
      "no predicted as:  no\n",
      "no predicted as:  no\n"
     ]
    }
   ],
   "source": [
    "#手动预测：\n",
    "from PIL import ImageFilter\n",
    "import sys\n",
    "os.chdir(sys.path[0])\n",
    "os.chdir(\"../../data/for_detect/test/yes\")\n",
    "os.system(\"ls *.jpg > names.txt\")\n",
    "os.chdir(\"../no\")\n",
    "os.system(\"ls *.jpg > names.txt\")\n",
    "os.chdir(sys.path[0])\n",
    "with open(\"../../data/for_detect/test/yes/names.txt\") as file:\n",
    "    for line in file.readlines():\n",
    "        if line==\"\":\n",
    "            break;\n",
    "        img = Image.open(\"../../data/for_detect/test/yes/\"+line.strip(\"\\n\"))\n",
    "        img = img.resize((imgSize,imgSize),Image.ANTIALIAS)\n",
    "#         img = img.filter(ImageFilter.EDGE_ENHANCE)\n",
    "#         img = img.filter(ImageFilter.DETAIL)\n",
    "        img = img.convert('RGB').filter(ImageFilter.RankFilter(5, 8))\n",
    "        pred_value = model.predict(np.array(img).reshape((1,imgSize,imgSize,3))/255)[0]\n",
    "        print(\"yes predicted as: \",'no'if pred_value<0.5 else 'yes')\n",
    "        if(pred_value>=0.5):\n",
    "            img.save(line.strip(\"\\n\"))\n",
    "with open(\"../../data/for_detect/test/no/names.txt\") as file:\n",
    "    for line in file.readlines():\n",
    "        if line==\"\":\n",
    "            break;\n",
    "        img = Image.open(\"../../data/for_detect/test/no/\"+line.strip(\"\\n\"))\n",
    "        img = img.resize((imgSize,imgSize),Image.ANTIALIAS)\n",
    "#         img = img.filter(ImageFilter.EDGE_ENHANCE)\n",
    "#         img = img.filter(ImageFilter.DETAIL)\n",
    "        img = img.convert('RGB').filter(ImageFilter.RankFilter(5, 8))\n",
    "        pred_value = model.predict(np.array(img).reshape((1,imgSize,imgSize,3))/255)[0]\n",
    "        print(\"no predicted as: \",'no'if pred_value<0.5 else 'yes')\n",
    "        if(pred_value<0.5):\n",
    "            img.save(line.strip(\"\\n\"))"
   ]
  },
  {
   "cell_type": "code",
   "execution_count": null,
   "metadata": {},
   "outputs": [],
   "source": []
  }
 ],
 "metadata": {
  "kernelspec": {
   "display_name": "Python 3",
   "language": "python",
   "name": "python3"
  },
  "language_info": {
   "codemirror_mode": {
    "name": "ipython",
    "version": 3
   },
   "file_extension": ".py",
   "mimetype": "text/x-python",
   "name": "python",
   "nbconvert_exporter": "python",
   "pygments_lexer": "ipython3",
   "version": "3.7.4"
  }
 },
 "nbformat": 4,
 "nbformat_minor": 2
}
