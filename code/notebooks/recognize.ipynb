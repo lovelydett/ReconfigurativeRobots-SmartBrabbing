{
 "cells": [
  {
   "cell_type": "code",
   "execution_count": 6,
   "metadata": {},
   "outputs": [],
   "source": [
    "from keras.applications.vgg16 import VGG16\n",
    "from keras.models import Sequential\n",
    "from keras.layers import Conv2D,MaxPooling2D,Activation,Dropout,Flatten,Dense\n",
    "from keras.optimizers import SGD\n",
    "from keras.preprocessing.image import ImageDataGenerator,img_to_array,load_img\n",
    "import numpy as np\n",
    "import PIL\n",
    "import keras"
   ]
  },
  {
   "cell_type": "code",
   "execution_count": 9,
   "metadata": {},
   "outputs": [],
   "source": [
    "#vgg16_model = VGG16(weights='imagenet',include_top=False, input_shape=(256,256,3))"
   ]
  },
  {
   "cell_type": "code",
   "execution_count": 31,
   "metadata": {},
   "outputs": [
    {
     "name": "stdout",
     "output_type": "stream",
     "text": [
      "Model: \"sequential_8\"\n",
      "_________________________________________________________________\n",
      "Layer (type)                 Output Shape              Param #   \n",
      "=================================================================\n",
      "conv2d_18 (Conv2D)           (None, 511, 511, 130)     1690      \n",
      "_________________________________________________________________\n",
      "activation_24 (Activation)   (None, 511, 511, 130)     0         \n",
      "_________________________________________________________________\n",
      "max_pooling2d_16 (MaxPooling (None, 255, 255, 130)     0         \n",
      "_________________________________________________________________\n",
      "conv2d_19 (Conv2D)           (None, 254, 254, 130)     67730     \n",
      "_________________________________________________________________\n",
      "activation_25 (Activation)   (None, 254, 254, 130)     0         \n",
      "_________________________________________________________________\n",
      "max_pooling2d_17 (MaxPooling (None, 127, 127, 130)     0         \n",
      "_________________________________________________________________\n",
      "conv2d_20 (Conv2D)           (None, 126, 126, 130)     67730     \n",
      "_________________________________________________________________\n",
      "activation_26 (Activation)   (None, 126, 126, 130)     0         \n",
      "_________________________________________________________________\n",
      "max_pooling2d_18 (MaxPooling (None, 63, 63, 130)       0         \n",
      "_________________________________________________________________\n",
      "flatten_6 (Flatten)          (None, 515970)            0         \n",
      "_________________________________________________________________\n",
      "dense_11 (Dense)             (None, 50)                25798550  \n",
      "_________________________________________________________________\n",
      "activation_27 (Activation)   (None, 50)                0         \n",
      "_________________________________________________________________\n",
      "dense_12 (Dense)             (None, 2)                 102       \n",
      "_________________________________________________________________\n",
      "activation_28 (Activation)   (None, 2)                 0         \n",
      "=================================================================\n",
      "Total params: 25,935,802\n",
      "Trainable params: 25,935,802\n",
      "Non-trainable params: 0\n",
      "_________________________________________________________________\n"
     ]
    }
   ],
   "source": [
    "#VGG16 : 太容易过拟合 先不用\n",
    "# top_model = Sequential()\n",
    "# top_model.add(Flatten(input_shape=vgg16_model.output_shape[1:]))\n",
    "# top_model.add(Dense(256,activation='relu'))\n",
    "# top_model.add(Dropout(0.5))\n",
    "# top_model.add(Dense(2,activation='softmax'))\n",
    "# model = Sequential()\n",
    "# model.add(vgg16_model)\n",
    "# model.add(top_model)\n",
    "\n",
    "#3层卷积\n",
    "imgSize = 512  #图片是512*512\n",
    "imgChan = 3    #3通道\n",
    "kernelInit = 'uniform'  #卷积核初始化方式\n",
    "nHiddenUnits = 50\n",
    "maxpoolSize = (2,2)\n",
    "nFilters = 130 #130 before \n",
    "kernelSize = (2,2)\n",
    "inputStrides = 1\n",
    "costFunction = 'categorical_crossentropy' #代价函数:不同于损失函数，代价函数在整个训练集上计算\n",
    "early_stop_delta = 0.01 # 0.01 change or above is considered improvement\n",
    "early_stop_patience = 10 \n",
    "\n",
    "model=Sequential()\n",
    "\n",
    "model.add(Conv2D(filters=nFilters, kernel_size = kernelSize ,strides= inputStrides,\n",
    "                 input_shape=(512,512,3),kernel_initializer= kernelInit))\n",
    "model.add(Activation('relu'))\n",
    "\n",
    "\n",
    "\n",
    "model.add(MaxPooling2D(pool_size=maxpoolSize))\n",
    "\n",
    "\n",
    "model.add(Conv2D(filters=nFilters, kernel_size = kernelSize ,strides= inputStrides,\n",
    "                 kernel_initializer= kernelInit))\n",
    "model.add(Activation('relu'))\n",
    "model.add(MaxPooling2D(pool_size=maxpoolSize))\n",
    "\n",
    "\n",
    "model.add(Conv2D(filters=nFilters, kernel_size = kernelSize ,strides= inputStrides,\n",
    "                 kernel_initializer= kernelInit))\n",
    "model.add(Activation('relu'))\n",
    "model.add(MaxPooling2D(pool_size=maxpoolSize))\n",
    "\n",
    "model.add(Flatten())\n",
    "model.add(Dense(nHiddenUnits))\n",
    "model.add(Activation('relu'))\n",
    "model.add(Dense(2))\n",
    "model.add(Activation('softmax'))\n",
    "\n",
    "earlyStopping = keras.callbacks.EarlyStopping(monitor='val_loss', min_delta=early_stop_delta, patience=early_stop_patience, verbose=2, mode='auto')\n",
    "\n",
    "model.summary()"
   ]
  },
  {
   "cell_type": "code",
   "execution_count": 32,
   "metadata": {},
   "outputs": [],
   "source": [
    "#测试 ImageDataGenerator\n",
    "train_datagen = ImageDataGenerator(\n",
    "    rotation_range = 40,     # 随机旋转度数\n",
    "    width_shift_range = 0.2, # 随机水平平移\n",
    "    height_shift_range = 0.2,# 随机竖直平移\n",
    "    rescale = 1/255,         # 数据归一化\n",
    "    shear_range = 20,       # 随机错切变换\n",
    "    zoom_range = 0.2,        # 随机放大\n",
    "    horizontal_flip = True,  # 水平翻转\n",
    "    fill_mode = 'nearest',   # 填充方式\n",
    ")\n",
    "test_datagen = ImageDataGenerator(\n",
    "    rescale = 1/255,         # 数据归一化\n",
    ")\n",
    "\n",
    "validation_datagen = ImageDataGenerator(\n",
    "    rescale = 1/255,)"
   ]
  },
  {
   "cell_type": "code",
   "execution_count": 33,
   "metadata": {},
   "outputs": [
    {
     "name": "stdout",
     "output_type": "stream",
     "text": [
      "Found 244 images belonging to 2 classes.\n",
      "Found 107 images belonging to 2 classes.\n",
      "Found 48 images belonging to 2 classes.\n"
     ]
    }
   ],
   "source": [
    "batch_size = 10\n",
    "# 生成训练数据\n",
    "train_generator = train_datagen.flow_from_directory(\n",
    "    '../../data/imgProcessed/training',\n",
    "    target_size=(imgSize,imgSize),\n",
    "    batch_size=batch_size,\n",
    "    )\n",
    "\n",
    "# 测试数据\n",
    "test_generator = test_datagen.flow_from_directory(\n",
    "    '../../data/imgProcessed/test',\n",
    "    target_size=(imgSize,imgSize),\n",
    "    batch_size=batch_size,\n",
    "    )\n",
    "\n",
    "#验证集\n",
    "validation_generator = validation_datagen.flow_from_directory(\n",
    "    '../../data/imgProcessed/validation',\n",
    "    target_size=(imgSize,imgSize),\n",
    "    batch_size=batch_size,\n",
    "    )"
   ]
  },
  {
   "cell_type": "code",
   "execution_count": 34,
   "metadata": {},
   "outputs": [
    {
     "data": {
      "text/plain": [
       "{'m': 0, 's': 1}"
      ]
     },
     "execution_count": 34,
     "metadata": {},
     "output_type": "execute_result"
    }
   ],
   "source": [
    "train_generator.class_indices"
   ]
  },
  {
   "cell_type": "code",
   "execution_count": 35,
   "metadata": {},
   "outputs": [
    {
     "name": "stdout",
     "output_type": "stream",
     "text": [
      "Model: \"sequential_8\"\n",
      "_________________________________________________________________\n",
      "Layer (type)                 Output Shape              Param #   \n",
      "=================================================================\n",
      "conv2d_18 (Conv2D)           (None, 511, 511, 130)     1690      \n",
      "_________________________________________________________________\n",
      "activation_24 (Activation)   (None, 511, 511, 130)     0         \n",
      "_________________________________________________________________\n",
      "max_pooling2d_16 (MaxPooling (None, 255, 255, 130)     0         \n",
      "_________________________________________________________________\n",
      "conv2d_19 (Conv2D)           (None, 254, 254, 130)     67730     \n",
      "_________________________________________________________________\n",
      "activation_25 (Activation)   (None, 254, 254, 130)     0         \n",
      "_________________________________________________________________\n",
      "max_pooling2d_17 (MaxPooling (None, 127, 127, 130)     0         \n",
      "_________________________________________________________________\n",
      "conv2d_20 (Conv2D)           (None, 126, 126, 130)     67730     \n",
      "_________________________________________________________________\n",
      "activation_26 (Activation)   (None, 126, 126, 130)     0         \n",
      "_________________________________________________________________\n",
      "max_pooling2d_18 (MaxPooling (None, 63, 63, 130)       0         \n",
      "_________________________________________________________________\n",
      "flatten_6 (Flatten)          (None, 515970)            0         \n",
      "_________________________________________________________________\n",
      "dense_11 (Dense)             (None, 50)                25798550  \n",
      "_________________________________________________________________\n",
      "activation_27 (Activation)   (None, 50)                0         \n",
      "_________________________________________________________________\n",
      "dense_12 (Dense)             (None, 2)                 102       \n",
      "_________________________________________________________________\n",
      "activation_28 (Activation)   (None, 2)                 0         \n",
      "=================================================================\n",
      "Total params: 25,935,802\n",
      "Trainable params: 25,935,802\n",
      "Non-trainable params: 0\n",
      "_________________________________________________________________\n"
     ]
    }
   ],
   "source": [
    "model.compile(optimizer=SGD(lr=1e-4,momentum=0.9),loss=costFunction,metrics=['accuracy'])\n",
    "model.summary()"
   ]
  },
  {
   "cell_type": "code",
   "execution_count": 40,
   "metadata": {},
   "outputs": [
    {
     "name": "stdout",
     "output_type": "stream",
     "text": [
      "Epoch 1/20\n",
      "25/25 [==============================] - 250s 10s/step - loss: 0.6921 - acc: 0.5863 - val_loss: 0.6914 - val_acc: 0.6875\n",
      "Epoch 2/20\n",
      "25/25 [==============================] - 245s 10s/step - loss: 0.6917 - acc: 0.6006 - val_loss: 0.6907 - val_acc: 0.5833\n",
      "Epoch 3/20\n",
      "25/25 [==============================] - 246s 10s/step - loss: 0.6911 - acc: 0.6699 - val_loss: 0.6905 - val_acc: 0.6875\n",
      "Epoch 4/20\n",
      "25/25 [==============================] - 246s 10s/step - loss: 0.6907 - acc: 0.6344 - val_loss: 0.6897 - val_acc: 0.8542\n",
      "Epoch 5/20\n",
      "25/25 [==============================] - 245s 10s/step - loss: 0.6903 - acc: 0.6419 - val_loss: 0.6893 - val_acc: 0.8542\n",
      "Epoch 6/20\n",
      "25/25 [==============================] - 234s 9s/step - loss: 0.6907 - acc: 0.6219 - val_loss: 0.6889 - val_acc: 0.6667\n",
      "Epoch 7/20\n",
      "25/25 [==============================] - 228s 9s/step - loss: 0.6897 - acc: 0.6659 - val_loss: 0.6878 - val_acc: 0.8750\n",
      "Epoch 8/20\n",
      "25/25 [==============================] - 227s 9s/step - loss: 0.6899 - acc: 0.6419 - val_loss: 0.6872 - val_acc: 0.8750\n",
      "Epoch 9/20\n",
      "25/25 [==============================] - 227s 9s/step - loss: 0.6887 - acc: 0.6499 - val_loss: 0.6865 - val_acc: 0.8333\n",
      "Epoch 10/20\n",
      "25/25 [==============================] - 228s 9s/step - loss: 0.6909 - acc: 0.5645 - val_loss: 0.6862 - val_acc: 0.8333\n",
      "Epoch 11/20\n",
      "25/25 [==============================] - 227s 9s/step - loss: 0.6882 - acc: 0.6722 - val_loss: 0.6855 - val_acc: 0.7917\n",
      "Epoch 12/20\n",
      "25/25 [==============================] - 228s 9s/step - loss: 0.6869 - acc: 0.6859 - val_loss: 0.6850 - val_acc: 0.5625\n",
      "Epoch 13/20\n",
      "25/25 [==============================] - 227s 9s/step - loss: 0.6899 - acc: 0.5761 - val_loss: 0.6834 - val_acc: 0.8958\n",
      "Epoch 14/20\n",
      "25/25 [==============================] - 227s 9s/step - loss: 0.6863 - acc: 0.6939 - val_loss: 0.6835 - val_acc: 0.5625\n",
      "Epoch 15/20\n",
      "25/25 [==============================] - 227s 9s/step - loss: 0.6881 - acc: 0.5921 - val_loss: 0.6818 - val_acc: 0.7917\n",
      "Epoch 16/20\n",
      "25/25 [==============================] - 228s 9s/step - loss: 0.6867 - acc: 0.6481 - val_loss: 0.6813 - val_acc: 0.5833\n",
      "Epoch 17/20\n",
      "25/25 [==============================] - 226s 9s/step - loss: 0.6862 - acc: 0.6259 - val_loss: 0.6792 - val_acc: 0.8750\n",
      "Epoch 18/20\n",
      "25/25 [==============================] - 227s 9s/step - loss: 0.6853 - acc: 0.6619 - val_loss: 0.6787 - val_acc: 0.6458\n",
      "Epoch 19/20\n",
      "25/25 [==============================] - 227s 9s/step - loss: 0.6851 - acc: 0.6624 - val_loss: 0.6773 - val_acc: 0.7917\n",
      "Epoch 20/20\n",
      "25/25 [==============================] - 228s 9s/step - loss: 0.6807 - acc: 0.7117 - val_loss: 0.6762 - val_acc: 0.6458\n"
     ]
    }
   ],
   "source": [
    "from PIL import Image\n",
    "history = model.fit_generator(train_generator,steps_per_epoch=len(train_generator),epochs=20,validation_data=validation_generator,validation_steps=len(validation_generator))"
   ]
  },
  {
   "cell_type": "code",
   "execution_count": 41,
   "metadata": {},
   "outputs": [],
   "source": [
    "model.save(\"../../model/Conv3_512.h5\")"
   ]
  },
  {
   "cell_type": "code",
   "execution_count": 42,
   "metadata": {},
   "outputs": [
    {
     "data": {
      "image/png": "[encoded data removed]",
      "text/plain": [
       "<Figure size 432x288 with 1 Axes>"
      ]
     },
     "metadata": {
      "needs_background": "light"
     },
     "output_type": "display_data"
    },
    {
     "data": {
      "image/png": "[encoded data removed]",
      "text/plain": [
       "<Figure size 432x288 with 1 Axes>"
      ]
     },
     "metadata": {
      "needs_background": "light"
     },
     "output_type": "display_data"
    }
   ],
   "source": [
    "#画出结果\n",
    "import matplotlib.pyplot as plt\n",
    "\n",
    "#查看变量，发现history.history中就只有这四个值，分别是准确度，验证集准确度，损失，验证集损失\n",
    "acc = history.history['acc']\n",
    "val_acc = history.history['val_acc']\n",
    "loss = history.history['loss']\n",
    "val_loss = history.history['val_loss']\n",
    "epochs = range(1, len(acc) + 1)\n",
    "\n",
    "#画两个图，分别是正确率和验证损失率\n",
    "#正确率\n",
    "plt.figure(1)\n",
    "plt.plot(epochs, acc, 'bo', label='Training acc')\n",
    "plt.plot(epochs, val_acc, 'b', label='Validation acc')\n",
    "plt.title('Training and validation accuracy')\n",
    "plt.legend()\n",
    "plt.savefig('acc.png')\n",
    "plt.show()\n",
    "#损失\n",
    "plt.figure(2)\n",
    "plt.plot(epochs, loss, 'bo', label='Training loss')\n",
    "plt.plot(epochs, val_loss, 'b', label='Validation loss')\n",
    "plt.title('Training and validation loss')\n",
    "plt.legend()\n",
    "plt.savefig('loss.png')\n",
    "plt.show()\n"
   ]
  },
  {
   "cell_type": "code",
   "execution_count": null,
   "metadata": {},
   "outputs": [],
   "source": []
  }
 ],
 "metadata": {
  "kernelspec": {
   "display_name": "ML",
   "language": "python",
   "name": "ml"
  },
  "language_info": {
   "codemirror_mode": {
    "name": "ipython",
    "version": 3
   },
   "file_extension": ".py",
   "mimetype": "text/x-python",
   "name": "python",
   "nbconvert_exporter": "python",
   "pygments_lexer": "ipython3",
   "version": "3.7.3"
  }
 },
 "nbformat": 4,
 "nbformat_minor": 2
}
