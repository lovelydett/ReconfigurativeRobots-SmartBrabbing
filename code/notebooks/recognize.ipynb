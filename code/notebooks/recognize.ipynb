{
 "cells": [
  {
   "cell_type": "code",
   "execution_count": 17,
   "metadata": {},
   "outputs": [],
   "source": [
    "import os\n",
    "import tensorflow as tf\n",
    "import keras.backend.tensorflow_backend as KTF\n",
    "from keras.applications.vgg16 import VGG16\n",
    "from keras.models import Sequential\n",
    "from keras.layers import Conv2D,MaxPooling2D,Activation,Dropout,Flatten,Dense\n",
    "from keras.optimizers import SGD, Adam\n",
    "from keras.preprocessing.image import ImageDataGenerator,img_to_array,load_img\n",
    "import numpy as np\n",
    "import PIL\n",
    "import keras"
   ]
  },
  {
   "cell_type": "code",
   "execution_count": 18,
   "metadata": {},
   "outputs": [],
   "source": [
    "#设置显卡使用情况和限制显存使用情况\n",
    "# 指定第一块GPU可用 \n",
    "import os\n",
    "os.environ[\"CUDA_VISIBLE_DEVICES\"] = \"0\" #Titan XP\n",
    "config = tf.ConfigProto()  \n",
    "config.gpu_options.allow_growth=True   #不全部占满显存, 按需分配\n",
    "sess = tf.Session(config=config)\n"
   ]
  },
  {
   "cell_type": "code",
   "execution_count": 19,
   "metadata": {},
   "outputs": [
    {
     "name": "stdout",
     "output_type": "stream",
     "text": [
      "_________________________________________________________________\n",
      "Layer (type)                 Output Shape              Param #   \n",
      "=================================================================\n",
      "conv2d_4 (Conv2D)            (None, 255, 255, 130)     1690      \n",
      "_________________________________________________________________\n",
      "activation_6 (Activation)    (None, 255, 255, 130)     0         \n",
      "_________________________________________________________________\n",
      "max_pooling2d_4 (MaxPooling2 (None, 127, 127, 130)     0         \n",
      "_________________________________________________________________\n",
      "conv2d_5 (Conv2D)            (None, 126, 126, 130)     67730     \n",
      "_________________________________________________________________\n",
      "activation_7 (Activation)    (None, 126, 126, 130)     0         \n",
      "_________________________________________________________________\n",
      "max_pooling2d_5 (MaxPooling2 (None, 63, 63, 130)       0         \n",
      "_________________________________________________________________\n",
      "conv2d_6 (Conv2D)            (None, 62, 62, 130)       67730     \n",
      "_________________________________________________________________\n",
      "activation_8 (Activation)    (None, 62, 62, 130)       0         \n",
      "_________________________________________________________________\n",
      "max_pooling2d_6 (MaxPooling2 (None, 31, 31, 130)       0         \n",
      "_________________________________________________________________\n",
      "flatten_2 (Flatten)          (None, 124930)            0         \n",
      "_________________________________________________________________\n",
      "dense_3 (Dense)              (None, 50)                6246550   \n",
      "_________________________________________________________________\n",
      "activation_9 (Activation)    (None, 50)                0         \n",
      "_________________________________________________________________\n",
      "dense_4 (Dense)              (None, 1)                 51        \n",
      "_________________________________________________________________\n",
      "activation_10 (Activation)   (None, 1)                 0         \n",
      "=================================================================\n",
      "Total params: 6,383,751\n",
      "Trainable params: 6,383,751\n",
      "Non-trainable params: 0\n",
      "_________________________________________________________________\n"
     ]
    }
   ],
   "source": [
    "# VGG16 : 太容易过拟合 先不用\n",
    "# top_model = Sequential()\n",
    "# top_model.add(Flatten(input_shape=vgg16_model.output_shape[1:]))\n",
    "# top_model.add(Dense(256,activation='relu'))\n",
    "# top_model.add(Dropout(0.5))\n",
    "# top_model.add(Dense(2,activation='softmax'))\n",
    "# model = Sequential()\n",
    "# vgg16_model = VGG16(weights='imagenet',include_top=False, input_shape=(256,256,3))\n",
    "# model.add(vgg16_model)\n",
    "# model.add(top_model)\n",
    "\n",
    "#3层卷积\n",
    "imgSize = 256  #图片尺寸\n",
    "imgChan = 3    #3通道\n",
    "kernelInit = 'uniform'  #卷积核初始化方式\n",
    "nHiddenUnits = 50\n",
    "maxpoolSize = (2,2)\n",
    "nFilters = 130 #130 before \n",
    "kernelSize = (2,2)\n",
    "inputStrides = 1\n",
    "costFunction = 'categorical_crossentropy' #代价函数:不同于损失函数，代价函数在整个训练集上计算\n",
    "early_stop_delta = 0.01 # 0.01 change or above is considered improvement\n",
    "early_stop_patience = 10 \n",
    "\n",
    "model=Sequential()\n",
    "\n",
    "model.add(Conv2D(filters=nFilters, kernel_size = kernelSize ,strides= inputStrides,\n",
    "                 input_shape=(imgSize,imgSize,3),kernel_initializer= kernelInit))\n",
    "model.add(Activation('relu'))\n",
    "\n",
    "\n",
    "\n",
    "model.add(MaxPooling2D(pool_size=maxpoolSize))\n",
    "\n",
    "\n",
    "model.add(Conv2D(filters=nFilters, kernel_size = kernelSize ,strides= inputStrides,\n",
    "                 kernel_initializer= kernelInit))\n",
    "model.add(Activation('relu'))\n",
    "model.add(MaxPooling2D(pool_size=maxpoolSize))\n",
    "\n",
    "\n",
    "model.add(Conv2D(filters=nFilters, kernel_size = kernelSize ,strides= inputStrides,\n",
    "                 kernel_initializer= kernelInit))\n",
    "model.add(Activation('relu'))\n",
    "model.add(MaxPooling2D(pool_size=maxpoolSize))\n",
    "\n",
    "model.add(Flatten())\n",
    "model.add(Dense(nHiddenUnits))\n",
    "model.add(Activation('relu'))\n",
    "model.add(Dense(1))\n",
    "model.add(Activation('sigmoid'))\n",
    "\n",
    "earlyStopping = keras.callbacks.EarlyStopping(monitor='val_loss', min_delta=early_stop_delta, patience=early_stop_patience, verbose=2, mode='auto')\n",
    "\n",
    "model.summary()"
   ]
  },
  {
   "cell_type": "code",
   "execution_count": 20,
   "metadata": {},
   "outputs": [],
   "source": [
    "#测试 ImageDataGenerator\n",
    "train_datagen = ImageDataGenerator(\n",
    "    rotation_range = 40,     # 随机旋转度数\n",
    "    width_shift_range = 0.2, # 随机水平平移\n",
    "    height_shift_range = 0.2,# 随机竖直平移\n",
    "    rescale = 1/255,         # 数据归一化\n",
    "    shear_range = 20,       # 随机错切变换\n",
    "    zoom_range = 0.2,        # 随机放大\n",
    "    horizontal_flip = True,  # 水平翻转\n",
    "    fill_mode = 'nearest',   # 填充方式\n",
    ")\n",
    "test_datagen = ImageDataGenerator(\n",
    "    rescale = 1/255,         # 数据归一化\n",
    ")\n",
    "\n",
    "validation_datagen = ImageDataGenerator(\n",
    "    rescale = 1/255,)"
   ]
  },
  {
   "cell_type": "code",
   "execution_count": 21,
   "metadata": {},
   "outputs": [
    {
     "name": "stdout",
     "output_type": "stream",
     "text": [
      "Found 244 images belonging to 2 classes.\n",
      "Found 107 images belonging to 2 classes.\n",
      "Found 48 images belonging to 2 classes.\n"
     ]
    }
   ],
   "source": [
    "batch_size = 5\n",
    "# 生成训练数据\n",
    "train_generator = train_datagen.flow_from_directory(\n",
    "    '../../data/imgProcessed/training',\n",
    "    target_size=(imgSize,imgSize),\n",
    "    batch_size=batch_size,\n",
    "    class_mode='binary',\n",
    "    )\n",
    "\n",
    "# 测试数据\n",
    "test_generator = test_datagen.flow_from_directory(\n",
    "    '../../data/imgProcessed/test',\n",
    "    target_size=(imgSize,imgSize),\n",
    "    batch_size=batch_size,\n",
    "    class_mode='binary',\n",
    "    )\n",
    "\n",
    "#验证集\n",
    "validation_generator = validation_datagen.flow_from_directory(\n",
    "    '../../data/imgProcessed/validation',\n",
    "    target_size=(imgSize,imgSize),\n",
    "    batch_size=batch_size,\n",
    "    class_mode='binary',\n",
    "    )"
   ]
  },
  {
   "cell_type": "code",
   "execution_count": 22,
   "metadata": {},
   "outputs": [
    {
     "data": {
      "text/plain": [
       "{'m': 0, 's': 1}"
      ]
     },
     "execution_count": 22,
     "metadata": {},
     "output_type": "execute_result"
    }
   ],
   "source": [
    "train_generator.class_indices"
   ]
  },
  {
   "cell_type": "code",
   "execution_count": 23,
   "metadata": {},
   "outputs": [],
   "source": [
    "#model.compile(optimizer=SGD(lr=1e-4,momentum=0.9),loss=costFunction,metrics=['categorical_accuracy'])\n",
    "model.compile(optimizer=Adam(lr=0.001, beta_1=0.9, beta_2=0.999, epsilon=1e-08),loss=\"binary_crossentropy\",metrics=['binary_accuracy'])"
   ]
  },
  {
   "cell_type": "code",
   "execution_count": 24,
   "metadata": {},
   "outputs": [
    {
     "name": "stdout",
     "output_type": "stream",
     "text": [
      "Epoch 1/20\n",
      "49/49 [==============================] - 9s 193ms/step - loss: 0.6866 - binary_accuracy: 0.4888 - val_loss: 0.5932 - val_binary_accuracy: 0.7917\n",
      "Epoch 2/20\n",
      "49/49 [==============================] - 9s 191ms/step - loss: 0.6536 - binary_accuracy: 0.5694 - val_loss: 0.7106 - val_binary_accuracy: 0.5000\n",
      "Epoch 3/20\n",
      "49/49 [==============================] - 10s 198ms/step - loss: 0.6427 - binary_accuracy: 0.6602 - val_loss: 0.5233 - val_binary_accuracy: 0.7083\n",
      "Epoch 4/20\n",
      "49/49 [==============================] - 10s 199ms/step - loss: 0.6069 - binary_accuracy: 0.6878 - val_loss: 0.3484 - val_binary_accuracy: 0.8542\n",
      "Epoch 5/20\n",
      "49/49 [==============================] - 9s 187ms/step - loss: 0.4245 - binary_accuracy: 0.8153 - val_loss: 0.2793 - val_binary_accuracy: 0.8542\n",
      "Epoch 6/20\n",
      "49/49 [==============================] - 9s 190ms/step - loss: 0.3729 - binary_accuracy: 0.8367 - val_loss: 0.2862 - val_binary_accuracy: 0.8542\n",
      "Epoch 7/20\n",
      "49/49 [==============================] - 9s 188ms/step - loss: 0.3954 - binary_accuracy: 0.8561 - val_loss: 0.2200 - val_binary_accuracy: 0.9167\n",
      "Epoch 8/20\n",
      "49/49 [==============================] - 9s 188ms/step - loss: 0.3127 - binary_accuracy: 0.8510 - val_loss: 0.2138 - val_binary_accuracy: 0.9167\n",
      "Epoch 9/20\n",
      "49/49 [==============================] - 9s 187ms/step - loss: 0.3153 - binary_accuracy: 0.8735 - val_loss: 0.2297 - val_binary_accuracy: 0.9583\n",
      "Epoch 10/20\n",
      "49/49 [==============================] - 9s 189ms/step - loss: 0.2749 - binary_accuracy: 0.8806 - val_loss: 0.1670 - val_binary_accuracy: 0.9583\n",
      "Epoch 11/20\n",
      "49/49 [==============================] - 9s 183ms/step - loss: 0.3207 - binary_accuracy: 0.8643 - val_loss: 0.2510 - val_binary_accuracy: 0.8750\n",
      "Epoch 12/20\n",
      "49/49 [==============================] - 9s 183ms/step - loss: 0.2868 - binary_accuracy: 0.8919 - val_loss: 0.2848 - val_binary_accuracy: 0.8125\n",
      "Epoch 13/20\n",
      "49/49 [==============================] - 9s 189ms/step - loss: 0.3678 - binary_accuracy: 0.8449 - val_loss: 0.2800 - val_binary_accuracy: 0.8542\n",
      "Epoch 14/20\n",
      "49/49 [==============================] - 9s 191ms/step - loss: 0.2781 - binary_accuracy: 0.8857 - val_loss: 0.1918 - val_binary_accuracy: 0.8750\n",
      "Epoch 15/20\n",
      "49/49 [==============================] - 9s 187ms/step - loss: 0.2649 - binary_accuracy: 0.8898 - val_loss: 0.1753 - val_binary_accuracy: 0.9583\n",
      "Epoch 16/20\n",
      "49/49 [==============================] - 9s 188ms/step - loss: 0.2464 - binary_accuracy: 0.9102 - val_loss: 0.1578 - val_binary_accuracy: 0.9792\n",
      "Epoch 17/20\n",
      "49/49 [==============================] - 9s 186ms/step - loss: 0.2687 - binary_accuracy: 0.8806 - val_loss: 0.1402 - val_binary_accuracy: 0.9792\n",
      "Epoch 18/20\n",
      "49/49 [==============================] - 9s 180ms/step - loss: 0.1936 - binary_accuracy: 0.9010 - val_loss: 0.1505 - val_binary_accuracy: 0.9792\n",
      "Epoch 19/20\n",
      "49/49 [==============================] - 9s 191ms/step - loss: 0.1619 - binary_accuracy: 0.9388 - val_loss: 0.0945 - val_binary_accuracy: 0.9792\n",
      "Epoch 20/20\n",
      "49/49 [==============================] - 9s 188ms/step - loss: 0.1819 - binary_accuracy: 0.9184 - val_loss: 0.1582 - val_binary_accuracy: 0.9792\n"
     ]
    }
   ],
   "source": [
    "from PIL import Image\n",
    "history = model.fit_generator(train_generator,steps_per_epoch=len(train_generator),epochs=20,validation_data=validation_generator,validation_steps=len(validation_generator))"
   ]
  },
  {
   "cell_type": "code",
   "execution_count": 25,
   "metadata": {},
   "outputs": [],
   "source": [
    "model.save(\"../../model/Conv3_256_2by2_Adam_epoch20.h5\")"
   ]
  },
  {
   "cell_type": "code",
   "execution_count": 26,
   "metadata": {},
   "outputs": [
    {
     "data": {
      "image/png": "[encoded data removed]",
      "text/plain": [
       "<Figure size 432x288 with 1 Axes>"
      ]
     },
     "metadata": {
      "needs_background": "light"
     },
     "output_type": "display_data"
    },
    {
     "ename": "TypeError",
     "evalue": "imshow() missing 1 required positional argument: 'X'",
     "output_type": "error",
     "traceback": [
      "\u001b[0;31m---------------------------------------------------------------------------\u001b[0m",
      "\u001b[0;31mTypeError\u001b[0m                                 Traceback (most recent call last)",
      "\u001b[0;32m<ipython-input-26-085657092bcc>\u001b[0m in \u001b[0;36m<module>\u001b[0;34m\u001b[0m\n\u001b[1;32m     25\u001b[0m \u001b[0mplt\u001b[0m\u001b[0;34m.\u001b[0m\u001b[0mlegend\u001b[0m\u001b[0;34m(\u001b[0m\u001b[0;34m)\u001b[0m\u001b[0;34m\u001b[0m\u001b[0;34m\u001b[0m\u001b[0m\n\u001b[1;32m     26\u001b[0m \u001b[0mplt\u001b[0m\u001b[0;34m.\u001b[0m\u001b[0msavefig\u001b[0m\u001b[0;34m(\u001b[0m\u001b[0;34m'loss.png'\u001b[0m\u001b[0;34m)\u001b[0m\u001b[0;34m\u001b[0m\u001b[0;34m\u001b[0m\u001b[0m\n\u001b[0;32m---> 27\u001b[0;31m \u001b[0mplt\u001b[0m\u001b[0;34m.\u001b[0m\u001b[0mimshow\u001b[0m\u001b[0;34m(\u001b[0m\u001b[0;34m)\u001b[0m\u001b[0;34m\u001b[0m\u001b[0;34m\u001b[0m\u001b[0m\n\u001b[0m",
      "\u001b[0;31mTypeError\u001b[0m: imshow() missing 1 required positional argument: 'X'"
     ]
    },
    {
     "data": {
      "image/png": "[encoded data removed]",
      "text/plain": [
       "<Figure size 432x288 with 1 Axes>"
      ]
     },
     "metadata": {
      "needs_background": "light"
     },
     "output_type": "display_data"
    }
   ],
   "source": [
    "#画出结果\n",
    "import matplotlib.pyplot as plt\n",
    "\n",
    "#查看变量，发现history.history中就只有这四个值，分别是准确度，验证集准确度，损失，验证集损失\n",
    "acc = history.history['binary_accuracy']\n",
    "val_acc = history.history['val_binary_accuracy']\n",
    "loss = history.history['loss']\n",
    "val_loss = history.history['val_loss']\n",
    "epochs = range(1, len(acc) + 1)\n",
    "\n",
    "#画两个图，分别是正确率和验证损失率\n",
    "#正确率\n",
    "plt.figure(1)\n",
    "plt.plot(epochs, acc, 'bo', label='Training acc')\n",
    "plt.plot(epochs, val_acc, 'b', label='Validation acc')\n",
    "plt.title('Training and validation accuracy')\n",
    "plt.legend()\n",
    "plt.savefig('acc.png')\n",
    "plt.show()\n",
    "#损失\n",
    "plt.figure(2)\n",
    "plt.plot(epochs, loss, 'bo', label='Training loss')\n",
    "plt.plot(epochs, val_loss, 'b', label='Validation loss')\n",
    "plt.title('Training and validation loss')\n",
    "plt.legend()\n",
    "plt.savefig('loss.png')\n",
    "plt.imshow()\n"
   ]
  },
  {
   "cell_type": "code",
   "execution_count": null,
   "metadata": {},
   "outputs": [],
   "source": []
  }
 ],
 "metadata": {
  "kernelspec": {
   "display_name": "Python 3",
   "language": "python",
   "name": "python3"
  },
  "language_info": {
   "codemirror_mode": {
    "name": "ipython",
    "version": 3
   },
   "file_extension": ".py",
   "mimetype": "text/x-python",
   "name": "python",
   "nbconvert_exporter": "python",
   "pygments_lexer": "ipython3",
   "version": "3.7.4"
  }
 },
 "nbformat": 4,
 "nbformat_minor": 2
}
