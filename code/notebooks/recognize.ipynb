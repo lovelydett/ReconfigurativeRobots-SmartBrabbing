{
 "cells": [
  {
   "cell_type": "code",
   "execution_count": null,
   "metadata": {},
   "outputs": [],
   "source": [
    "import os\n",
    "import tensorflow as tf\n",
    "import keras.backend.tensorflow_backend as KTF\n",
    "from keras.applications.vgg16 import VGG16\n",
    "from keras.models import Sequential\n",
    "from keras.layers import Conv2D,MaxPooling2D,Activation,Dropout,Flatten,Dense\n",
    "from keras.optimizers import SGD, Adam\n",
    "from keras.preprocessing.image import ImageDataGenerator,img_to_array,load_img\n",
    "import numpy as np\n",
    "import PIL\n",
    "import keras"
   ]
  },
  {
   "cell_type": "code",
   "execution_count": 4,
   "metadata": {},
   "outputs": [],
   "source": [
    "#设置显卡使用情况和限制显存使用情况\n",
    "# 指定第一块GPU可用 \n",
    "import os\n",
    "os.environ[\"CUDA_VISIBLE_DEVICES\"] = \"0,1\" #Titan XP\n",
    "config = tf.ConfigProto()  \n",
    "config.gpu_options.allow_growth=True   #不全部占满显存, 按需分配\n",
    "sess = tf.Session(config=config)\n"
   ]
  },
  {
   "cell_type": "code",
   "execution_count": null,
   "metadata": {},
   "outputs": [],
   "source": [
    "# VGG16 : 太容易过拟合 先不用\n",
    "# top_model = Sequential()\n",
    "# top_model.add(Flatten(input_shape=vgg16_model.output_shape[1:]))\n",
    "# top_model.add(Dense(256,activation='relu'))\n",
    "# top_model.add(Dropout(0.5))\n",
    "# top_model.add(Dense(2,activation='softmax'))\n",
    "# model = Sequential()\n",
    "# vgg16_model = VGG16(weights='imagenet',include_top=False, input_shape=(256,256,3))\n",
    "# model.add(vgg16_model)\n",
    "# model.add(top_model)\n",
    "\n",
    "#3层卷积\n",
    "imgSize = 256  #图片尺寸\n",
    "imgChan = 1    #1通道\n",
    "kernelInit = 'uniform'  #卷积核初始化方式\n",
    "nHiddenUnits = 10\n",
    "maxpoolSize = (4,4)\n",
    "nFilters = 60 #130 before \n",
    "kernelSize = (4,4)\n",
    "inputStrides = 1\n",
    "costFunction = 'categorical_crossentropy' #代价函数:不同于损失函数，代价函数在整个训练集上计算\n",
    "early_stop_delta = 0.01 # 0.01 change or above is considered improvement\n",
    "early_stop_patience = 10 \n",
    "\n",
    "model=Sequential()\n",
    "\n",
    "model.add(Conv2D(filters=nFilters, kernel_size = kernelSize ,strides= inputStrides,\n",
    "                 input_shape=(imgSize,imgSize,1),kernel_initializer= kernelInit))\n",
    "model.add(Activation('relu'))\n",
    "\n",
    "\n",
    "\n",
    "model.add(MaxPooling2D(pool_size=maxpoolSize))\n",
    "\n",
    "\n",
    "model.add(Conv2D(filters=nFilters, kernel_size = kernelSize ,strides= inputStrides,\n",
    "                 kernel_initializer= kernelInit))\n",
    "model.add(Activation('relu'))\n",
    "model.add(MaxPooling2D(pool_size=maxpoolSize))\n",
    "\n",
    "\n",
    "model.add(Conv2D(filters=nFilters, kernel_size = kernelSize ,strides= inputStrides,\n",
    "                 kernel_initializer= kernelInit))\n",
    "model.add(Activation('relu'))\n",
    "model.add(MaxPooling2D(pool_size=maxpoolSize))\n",
    "\n",
    "model.add(Conv2D(filters=nFilters, kernel_size = kernelSize ,strides= inputStrides,\n",
    "                 kernel_initializer= kernelInit))\n",
    "model.add(Activation('relu'))\n",
    "model.add(MaxPooling2D(pool_size=maxpoolSize))\n",
    "\n",
    "model.add(Flatten())\n",
    "model.add(Dense(nHiddenUnits))\n",
    "model.add(Activation('relu'))\n",
    "model.add(Dense(1))\n",
    "model.add(Activation('sigmoid'))\n",
    "\n",
    "earlyStopping = keras.callbacks.EarlyStopping(monitor='val_loss', min_delta=early_stop_delta, patience=early_stop_patience, verbose=2, mode='auto')\n",
    "\n",
    "model.summary()"
   ]
  },
  {
   "cell_type": "code",
   "execution_count": 10,
   "metadata": {},
   "outputs": [],
   "source": [
    "#测试 ImageDataGenerator\n",
    "train_datagen = ImageDataGenerator(\n",
    "    rotation_range = 40,     # 随机旋转度数\n",
    "    width_shift_range = 0.2, # 随机水平平移\n",
    "    height_shift_range = 0.2,# 随机竖直平移\n",
    "    rescale = 1/255,         # 数据归一化\n",
    "    shear_range = 20,       # 随机错切变换\n",
    "    zoom_range = 0.2,        # 随机放大\n",
    "    horizontal_flip = True,  # 水平翻转\n",
    "    fill_mode = 'nearest',   # 填充方式\n",
    ")\n",
    "test_datagen = ImageDataGenerator(\n",
    "    rescale = 1/255,         # 数据归一化\n",
    ")\n",
    "\n",
    "validation_datagen = ImageDataGenerator(\n",
    "    rescale = 1/255,)"
   ]
  },
  {
   "cell_type": "code",
   "execution_count": 27,
   "metadata": {},
   "outputs": [
    {
     "name": "stdout",
     "output_type": "stream",
     "text": [
      "Found 244 images belonging to 2 classes.\n",
      "Found 107 images belonging to 2 classes.\n",
      "Found 48 images belonging to 2 classes.\n"
     ]
    }
   ],
   "source": [
    "batch_size = 5\n",
    "# 生成训练数据\n",
    "train_generator = train_datagen.flow_from_directory(\n",
    "    '../../data/imgProcessed/train_gray',\n",
    "    target_size=(imgSize,imgSize),\n",
    "    color_mode = \"grayscale\",\n",
    "    batch_size=batch_size,\n",
    "    class_mode='binary',\n",
    "    )\n",
    "\n",
    "# 测试数据\n",
    "test_generator = test_datagen.flow_from_directory(\n",
    "    '../../data/imgProcessed/test_gray',\n",
    "    target_size=(imgSize,imgSize),\n",
    "    color_mode = \"grayscale\",\n",
    "    batch_size=batch_size,\n",
    "    class_mode='binary',\n",
    "    )\n",
    "\n",
    "#验证集\n",
    "validation_generator = validation_datagen.flow_from_directory(\n",
    "    '../../data/imgProcessed/validation_gray',\n",
    "    target_size=(imgSize,imgSize),\n",
    "    color_mode = \"grayscale\",\n",
    "    batch_size=batch_size,\n",
    "    class_mode='binary',\n",
    "    )"
   ]
  },
  {
   "cell_type": "code",
   "execution_count": 19,
   "metadata": {},
   "outputs": [
    {
     "data": {
      "text/plain": [
       "{'m': 0, 's': 1}"
      ]
     },
     "execution_count": 19,
     "metadata": {},
     "output_type": "execute_result"
    }
   ],
   "source": [
    "train_generator.class_indices"
   ]
  },
  {
   "cell_type": "code",
   "execution_count": 28,
   "metadata": {},
   "outputs": [],
   "source": [
    "#model.compile(optimizer=SGD(lr=1e-4,momentum=0.9),loss=costFunction,metrics=['categorical_accuracy'])\n",
    "model.compile(optimizer=Adam(lr=0.0005, beta_1=0.9, beta_2=0.999, epsilon=1e-08),loss=\"binary_crossentropy\",metrics=['binary_accuracy'])"
   ]
  },
  {
   "cell_type": "code",
   "execution_count": 29,
   "metadata": {},
   "outputs": [
    {
     "name": "stdout",
     "output_type": "stream",
     "text": [
      "Epoch 1/40\n",
      "49/49 [==============================] - 11s 233ms/step - loss: 0.7278 - binary_accuracy: 0.5632 - val_loss: 0.6415 - val_binary_accuracy: 0.8333\n",
      "Epoch 2/40\n",
      "49/49 [==============================] - 8s 165ms/step - loss: 0.5251 - binary_accuracy: 0.7796 - val_loss: 0.3828 - val_binary_accuracy: 0.8125\n",
      "Epoch 3/40\n",
      "49/49 [==============================] - 8s 164ms/step - loss: 0.5620 - binary_accuracy: 0.8071 - val_loss: 0.3832 - val_binary_accuracy: 0.8125\n",
      "Epoch 4/40\n",
      "49/49 [==============================] - 8s 165ms/step - loss: 0.6731 - binary_accuracy: 0.7745 - val_loss: 0.4902 - val_binary_accuracy: 0.8125\n",
      "Epoch 5/40\n",
      "49/49 [==============================] - 8s 167ms/step - loss: 0.3790 - binary_accuracy: 0.8326 - val_loss: 0.2409 - val_binary_accuracy: 0.9375\n",
      "Epoch 6/40\n",
      "49/49 [==============================] - 9s 181ms/step - loss: 0.3324 - binary_accuracy: 0.8694 - val_loss: 0.2816 - val_binary_accuracy: 0.8750\n",
      "Epoch 7/40\n",
      "49/49 [==============================] - 8s 166ms/step - loss: 0.3931 - binary_accuracy: 0.8530 - val_loss: 0.3166 - val_binary_accuracy: 0.8542\n",
      "Epoch 8/40\n",
      "49/49 [==============================] - 8s 167ms/step - loss: 0.3110 - binary_accuracy: 0.8735 - val_loss: 0.2862 - val_binary_accuracy: 0.8750\n",
      "Epoch 9/40\n",
      "49/49 [==============================] - 8s 168ms/step - loss: 0.2756 - binary_accuracy: 0.9061 - val_loss: 0.0642 - val_binary_accuracy: 1.0000\n",
      "Epoch 10/40\n",
      "49/49 [==============================] - 8s 168ms/step - loss: 0.1963 - binary_accuracy: 0.9265 - val_loss: 0.0830 - val_binary_accuracy: 0.9583\n",
      "Epoch 11/40\n",
      "49/49 [==============================] - 8s 167ms/step - loss: 0.2473 - binary_accuracy: 0.8980 - val_loss: 0.0888 - val_binary_accuracy: 1.0000\n",
      "Epoch 12/40\n",
      "49/49 [==============================] - 8s 171ms/step - loss: 0.2863 - binary_accuracy: 0.8939 - val_loss: 0.1149 - val_binary_accuracy: 1.0000\n",
      "Epoch 13/40\n",
      "49/49 [==============================] - 8s 169ms/step - loss: 0.1378 - binary_accuracy: 0.9469 - val_loss: 0.0525 - val_binary_accuracy: 0.9792\n",
      "Epoch 14/40\n",
      "49/49 [==============================] - 8s 169ms/step - loss: 0.1010 - binary_accuracy: 0.9469 - val_loss: 0.0306 - val_binary_accuracy: 1.0000\n",
      "Epoch 15/40\n",
      "49/49 [==============================] - 8s 170ms/step - loss: 0.1486 - binary_accuracy: 0.9429 - val_loss: 0.0185 - val_binary_accuracy: 1.0000\n",
      "Epoch 16/40\n",
      "49/49 [==============================] - 8s 171ms/step - loss: 0.1201 - binary_accuracy: 0.9592 - val_loss: 0.0126 - val_binary_accuracy: 1.0000\n",
      "Epoch 17/40\n",
      "49/49 [==============================] - 8s 172ms/step - loss: 0.1471 - binary_accuracy: 0.9429 - val_loss: 0.0128 - val_binary_accuracy: 1.0000\n",
      "Epoch 18/40\n",
      "49/49 [==============================] - 9s 180ms/step - loss: 0.1379 - binary_accuracy: 0.9469 - val_loss: 0.0905 - val_binary_accuracy: 0.9792\n",
      "Epoch 19/40\n",
      "49/49 [==============================] - 8s 172ms/step - loss: 0.1551 - binary_accuracy: 0.9388 - val_loss: 0.0108 - val_binary_accuracy: 1.0000\n",
      "Epoch 20/40\n",
      "49/49 [==============================] - 8s 172ms/step - loss: 0.1345 - binary_accuracy: 0.9623 - val_loss: 0.0639 - val_binary_accuracy: 0.9792\n",
      "Epoch 21/40\n",
      "49/49 [==============================] - 8s 173ms/step - loss: 0.1558 - binary_accuracy: 0.9224 - val_loss: 0.0118 - val_binary_accuracy: 1.0000\n",
      "Epoch 22/40\n",
      "49/49 [==============================] - 9s 175ms/step - loss: 0.0963 - binary_accuracy: 0.9592 - val_loss: 0.0308 - val_binary_accuracy: 1.0000\n",
      "Epoch 23/40\n",
      "49/49 [==============================] - 8s 171ms/step - loss: 0.0874 - binary_accuracy: 0.9796 - val_loss: 0.0043 - val_binary_accuracy: 1.0000\n",
      "Epoch 24/40\n",
      "49/49 [==============================] - 8s 171ms/step - loss: 0.1071 - binary_accuracy: 0.9551 - val_loss: 0.0136 - val_binary_accuracy: 1.0000\n",
      "Epoch 25/40\n",
      "49/49 [==============================] - 8s 172ms/step - loss: 0.0759 - binary_accuracy: 0.9663 - val_loss: 0.1302 - val_binary_accuracy: 0.9375\n",
      "Epoch 26/40\n",
      "49/49 [==============================] - 8s 171ms/step - loss: 0.1131 - binary_accuracy: 0.9714 - val_loss: 0.0036 - val_binary_accuracy: 1.0000\n",
      "Epoch 27/40\n",
      "49/49 [==============================] - 8s 173ms/step - loss: 0.0377 - binary_accuracy: 0.9918 - val_loss: 0.0039 - val_binary_accuracy: 1.0000\n",
      "Epoch 28/40\n",
      "49/49 [==============================] - 8s 172ms/step - loss: 0.1553 - binary_accuracy: 0.9429 - val_loss: 0.0250 - val_binary_accuracy: 1.0000\n",
      "Epoch 29/40\n",
      "49/49 [==============================] - 8s 172ms/step - loss: 0.1147 - binary_accuracy: 0.9592 - val_loss: 0.0271 - val_binary_accuracy: 1.0000\n",
      "Epoch 30/40\n",
      "49/49 [==============================] - 8s 173ms/step - loss: 0.1015 - binary_accuracy: 0.9704 - val_loss: 0.0074 - val_binary_accuracy: 1.0000\n",
      "Epoch 31/40\n",
      "49/49 [==============================] - 9s 177ms/step - loss: 0.0544 - binary_accuracy: 0.9755 - val_loss: 0.0575 - val_binary_accuracy: 0.9583\n",
      "Epoch 32/40\n",
      "49/49 [==============================] - 8s 170ms/step - loss: 0.0827 - binary_accuracy: 0.9714 - val_loss: 0.0014 - val_binary_accuracy: 1.0000\n",
      "Epoch 33/40\n",
      "49/49 [==============================] - 8s 171ms/step - loss: 0.0875 - binary_accuracy: 0.9755 - val_loss: 0.0029 - val_binary_accuracy: 1.0000\n",
      "Epoch 34/40\n",
      "49/49 [==============================] - 8s 173ms/step - loss: 0.0631 - binary_accuracy: 0.9796 - val_loss: 0.0037 - val_binary_accuracy: 1.0000\n",
      "Epoch 35/40\n",
      "49/49 [==============================] - 8s 171ms/step - loss: 0.0629 - binary_accuracy: 0.9796 - val_loss: 0.0041 - val_binary_accuracy: 1.0000\n",
      "Epoch 36/40\n",
      "49/49 [==============================] - 8s 172ms/step - loss: 0.0363 - binary_accuracy: 0.9796 - val_loss: 0.0012 - val_binary_accuracy: 1.0000\n",
      "Epoch 37/40\n",
      "49/49 [==============================] - 8s 172ms/step - loss: 0.0596 - binary_accuracy: 0.9827 - val_loss: 5.6362e-04 - val_binary_accuracy: 1.0000\n",
      "Epoch 38/40\n",
      "49/49 [==============================] - 8s 172ms/step - loss: 0.0753 - binary_accuracy: 0.9796 - val_loss: 0.0026 - val_binary_accuracy: 1.0000\n",
      "Epoch 39/40\n",
      "49/49 [==============================] - 8s 173ms/step - loss: 0.1846 - binary_accuracy: 0.9378 - val_loss: 0.0058 - val_binary_accuracy: 1.0000\n",
      "Epoch 40/40\n",
      "49/49 [==============================] - 8s 172ms/step - loss: 0.1145 - binary_accuracy: 0.9673 - val_loss: 0.0101 - val_binary_accuracy: 1.0000\n"
     ]
    }
   ],
   "source": [
    "from PIL import Image\n",
    "history = model.fit_generator(train_generator,steps_per_epoch=len(train_generator),epochs=40,validation_data=validation_generator,validation_steps=len(validation_generator))"
   ]
  },
  {
   "cell_type": "code",
   "execution_count": 30,
   "metadata": {},
   "outputs": [],
   "source": [
    "model.save(\"../../model/Gray_Conv4_512_mp2by2_ker4by4_Adam_epoch40.h5\")"
   ]
  },
  {
   "cell_type": "code",
   "execution_count": 31,
   "metadata": {},
   "outputs": [
    {
     "data": {
      "image/png": "[encoded data removed]",
      "text/plain": [
       "<Figure size 432x288 with 1 Axes>"
      ]
     },
     "metadata": {
      "needs_background": "light"
     },
     "output_type": "display_data"
    },
    {
     "data": {
      "image/png": "[encoded data removed]",
      "text/plain": [
       "<Figure size 432x288 with 1 Axes>"
      ]
     },
     "metadata": {
      "needs_background": "light"
     },
     "output_type": "display_data"
    }
   ],
   "source": [
    "#画出结果\n",
    "import matplotlib.pyplot as plt\n",
    "\n",
    "#查看变量，发现history.history中就只有这四个值，分别是准确度，验证集准确度，损失，验证集损失\n",
    "acc = history.history['binary_accuracy']\n",
    "val_acc = history.history['val_binary_accuracy']\n",
    "loss = history.history['loss']\n",
    "val_loss = history.history['val_loss']\n",
    "epochs = range(1, len(acc) + 1)\n",
    "\n",
    "#画两个图，分别是正确率和验证损失率\n",
    "#正确率\n",
    "plt.figure(1)\n",
    "plt.plot(epochs, acc, 'bo', label='Training acc')\n",
    "plt.plot(epochs, val_acc, 'b', label='Validation acc')\n",
    "plt.title('Training and validation accuracy')\n",
    "plt.legend()\n",
    "plt.savefig('acc.png')\n",
    "plt.show()\n",
    "#损失\n",
    "plt.figure(2)\n",
    "plt.plot(epochs, loss, 'bo', label='Training loss')\n",
    "plt.plot(epochs, val_loss, 'b', label='Validation loss')\n",
    "plt.title('Training and validation loss')\n",
    "plt.legend()\n",
    "plt.savefig('loss.png')\n",
    "plt.show()\n"
   ]
  },
  {
   "cell_type": "code",
   "execution_count": null,
   "metadata": {},
   "outputs": [],
   "source": []
  }
 ],
 "metadata": {
  "kernelspec": {
   "display_name": "Python 3",
   "language": "python",
   "name": "python3"
  },
  "language_info": {
   "codemirror_mode": {
    "name": "ipython",
    "version": 3
   },
   "file_extension": ".py",
   "mimetype": "text/x-python",
   "name": "python",
   "nbconvert_exporter": "python",
   "pygments_lexer": "ipython3",
   "version": "3.7.4"
  }
 },
 "nbformat": 4,
 "nbformat_minor": 2
}
