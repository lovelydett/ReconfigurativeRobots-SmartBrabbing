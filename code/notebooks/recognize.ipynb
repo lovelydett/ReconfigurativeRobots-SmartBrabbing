{
 "cells": [
  {
   "cell_type": "code",
   "execution_count": 50,
   "metadata": {},
   "outputs": [],
   "source": [
    "import os\n",
    "import tensorflow as tf\n",
    "import keras.backend.tensorflow_backend as KTF\n",
    "from keras.applications.vgg16 import VGG16\n",
    "from keras.models import Sequential\n",
    "from keras.layers import Conv2D,MaxPooling2D,Activation,Dropout,Flatten,Dense\n",
    "from keras.optimizers import SGD, Adam\n",
    "from keras.preprocessing.image import ImageDataGenerator,img_to_array,load_img\n",
    "import numpy as np\n",
    "import PIL\n",
    "import keras"
   ]
  },
  {
   "cell_type": "code",
   "execution_count": 51,
   "metadata": {},
   "outputs": [],
   "source": [
    "#设置显卡使用情况和限制显存使用情况\n",
    "# 指定第一块GPU可用 \n",
    "import os\n",
    "os.environ[\"CUDA_VISIBLE_DEVICES\"] = \"1,2\" #Titan XP\n",
    "config = tf.ConfigProto()  \n",
    "config.gpu_options.allow_growth=True   #不全部占满显存, 按需分配\n",
    "sess = tf.Session(config=config)\n"
   ]
  },
  {
   "cell_type": "code",
   "execution_count": 55,
   "metadata": {},
   "outputs": [
    {
     "name": "stdout",
     "output_type": "stream",
     "text": [
      "_________________________________________________________________\n",
      "Layer (type)                 Output Shape              Param #   \n",
      "=================================================================\n",
      "vgg16 (Model)                (None, 16, 16, 512)       14714688  \n",
      "_________________________________________________________________\n",
      "flatten_13 (Flatten)         (None, 131072)            0         \n",
      "_________________________________________________________________\n",
      "dense_25 (Dense)             (None, 50)                6553650   \n",
      "_________________________________________________________________\n",
      "dropout_3 (Dropout)          (None, 50)                0         \n",
      "_________________________________________________________________\n",
      "dense_26 (Dense)             (None, 1)                 51        \n",
      "=================================================================\n",
      "Total params: 21,268,389\n",
      "Trainable params: 21,268,389\n",
      "Non-trainable params: 0\n",
      "_________________________________________________________________\n"
     ]
    }
   ],
   "source": [
    "# VGG16 : 太容易过拟合 先不用\n",
    "model = Sequential()\n",
    "model.add(VGG16(weights='imagenet',include_top=False, input_shape=(512,512,3)))\n",
    "model.add(Flatten(input_shape=vgg16_model.output_shape[1:]))\n",
    "model.add(Dense(50,activation='relu'))\n",
    "model.add(Dropout(0.5))\n",
    "model.add(Dense(1,activation='sigmoid'))\n",
    "\n",
    "# #3层卷积\n",
    "# imgSize = 512  #图片尺寸\n",
    "# imgChan = 1    #1通道\n",
    "# kernelInit = 'uniform'  #卷积核初始化方式\n",
    "# nHiddenUnits = 50\n",
    "# maxpoolSize = (2,2)\n",
    "# nFilters = 100 #130 before \n",
    "# kernelSize = (6,6)\n",
    "# inputStrides = 1\n",
    "# costFunction = 'categorical_crossentropy' #代价函数:不同于损失函数，代价函数在整个训练集上计算\n",
    "# early_stop_delta = 0.01 # 0.01 change or above is considered improvement\n",
    "# early_stop_patience = 10 \n",
    "\n",
    "# model=Sequential()\n",
    "\n",
    "# model.add(Conv2D(filters=nFilters, kernel_size = kernelSize ,strides= inputStrides,\n",
    "#                  input_shape=(imgSize,imgSize,3),kernel_initializer= kernelInit))\n",
    "# model.add(Activation('relu'))\n",
    "# model.add(MaxPooling2D(pool_size=maxpoolSize))\n",
    "\n",
    "\n",
    "# model.add(Conv2D(filters=nFilters, kernel_size = kernelSize ,strides= inputStrides,\n",
    "#                  kernel_initializer= kernelInit))\n",
    "# model.add(Activation('relu'))\n",
    "# model.add(MaxPooling2D(pool_size=maxpoolSize))\n",
    "\n",
    "\n",
    "# model.add(Conv2D(filters=nFilters, kernel_size = kernelSize ,strides= inputStrides,\n",
    "#                  kernel_initializer= kernelInit))\n",
    "# model.add(Activation('relu'))\n",
    "# model.add(MaxPooling2D(pool_size=maxpoolSize))\n",
    "\n",
    "# model.add(Conv2D(filters=nFilters, kernel_size = kernelSize ,strides= inputStrides,\n",
    "#                  kernel_initializer= kernelInit))\n",
    "# model.add(Activation('relu'))\n",
    "# model.add(MaxPooling2D(pool_size=maxpoolSize))\n",
    "\n",
    "# model.add(Flatten())\n",
    "# model.add(Dense(nHiddenUnits))\n",
    "# model.add(Activation('relu'))\n",
    "# model.add(Dense(1))\n",
    "# model.add(Activation('sigmoid'))\n",
    "\n",
    "# earlyStopping = keras.callbacks.EarlyStopping(monitor='val_loss', min_delta=early_stop_delta, patience=early_stop_patience, verbose=2, mode='auto')\n",
    "\n",
    "model.summary()"
   ]
  },
  {
   "cell_type": "code",
   "execution_count": 40,
   "metadata": {},
   "outputs": [],
   "source": [
    "#测试 ImageDataGenerator\n",
    "train_datagen = ImageDataGenerator(\n",
    "    rotation_range = 40,     # 随机旋转度数\n",
    "    width_shift_range = 0.2, # 随机水平平移\n",
    "    height_shift_range = 0.2,# 随机竖直平移\n",
    "    rescale = 1/255,         # 数据归一化\n",
    "    shear_range = 20,       # 随机错切变换\n",
    "    zoom_range = 0.2,        # 随机放大\n",
    "    horizontal_flip = True,  # 水平翻转\n",
    "    fill_mode = 'nearest',   # 填充方式\n",
    ")\n",
    "test_datagen = ImageDataGenerator(\n",
    "    rescale = 1/255,         # 数据归一化\n",
    ")\n",
    "\n",
    "validation_datagen = ImageDataGenerator(\n",
    "    rescale = 1/255,)"
   ]
  },
  {
   "cell_type": "code",
   "execution_count": 41,
   "metadata": {},
   "outputs": [
    {
     "name": "stdout",
     "output_type": "stream",
     "text": [
      "Found 330 images belonging to 2 classes.\n",
      "Found 63 images belonging to 2 classes.\n"
     ]
    }
   ],
   "source": [
    "batch_size = 5\n",
    "# 生成训练数据\n",
    "train_generator = train_datagen.flow_from_directory(\n",
    "    '../../data/for_recognize/train',\n",
    "    target_size=(imgSize,imgSize),\n",
    "    #color_mode = \"grayscale\",\n",
    "    batch_size=batch_size,\n",
    "    class_mode='binary',\n",
    "    )\n",
    "\n",
    "\n",
    "#验证集\n",
    "validation_generator = validation_datagen.flow_from_directory(\n",
    "    '../../data/for_recognize/validation',\n",
    "    target_size=(imgSize,imgSize),\n",
    "    #color_mode = \"grayscale\",\n",
    "    batch_size=batch_size,\n",
    "    class_mode='binary',\n",
    "    )"
   ]
  },
  {
   "cell_type": "code",
   "execution_count": 42,
   "metadata": {},
   "outputs": [
    {
     "data": {
      "text/plain": [
       "{'m': 0, 's': 1}"
      ]
     },
     "execution_count": 42,
     "metadata": {},
     "output_type": "execute_result"
    }
   ],
   "source": [
    "train_generator.class_indices"
   ]
  },
  {
   "cell_type": "code",
   "execution_count": 56,
   "metadata": {},
   "outputs": [],
   "source": [
    "#model.compile(optimizer=SGD(lr=1e-4,momentum=0.9),loss=costFunction,metrics=['categorical_accuracy'])\n",
    "model.compile(optimizer=Adam(lr=0.00001, beta_1=0.9, beta_2=0.999, epsilon=1e-08),loss=\"binary_crossentropy\",metrics=['binary_accuracy'])"
   ]
  },
  {
   "cell_type": "code",
   "execution_count": 57,
   "metadata": {},
   "outputs": [
    {
     "name": "stdout",
     "output_type": "stream",
     "text": [
      "Epoch 1/10\n",
      "66/66 [==============================] - 30s 455ms/step - loss: 0.7154 - binary_accuracy: 0.5485 - val_loss: 0.6939 - val_binary_accuracy: 0.4762\n",
      "Epoch 2/10\n",
      "66/66 [==============================] - 28s 427ms/step - loss: 0.6104 - binary_accuracy: 0.6576 - val_loss: 0.8430 - val_binary_accuracy: 0.4127\n",
      "Epoch 3/10\n",
      "66/66 [==============================] - 26s 399ms/step - loss: 0.4813 - binary_accuracy: 0.7606 - val_loss: 0.4741 - val_binary_accuracy: 0.7937\n",
      "Epoch 4/10\n",
      "66/66 [==============================] - 26s 392ms/step - loss: 0.4353 - binary_accuracy: 0.7939 - val_loss: 0.6204 - val_binary_accuracy: 0.5556\n",
      "Epoch 5/10\n",
      "66/66 [==============================] - 25s 385ms/step - loss: 0.4097 - binary_accuracy: 0.7909 - val_loss: 0.2188 - val_binary_accuracy: 0.9206\n",
      "Epoch 6/10\n",
      "66/66 [==============================] - 29s 439ms/step - loss: 0.2560 - binary_accuracy: 0.8818 - val_loss: 0.2753 - val_binary_accuracy: 0.8413\n",
      "Epoch 7/10\n",
      "66/66 [==============================] - 27s 413ms/step - loss: 0.2277 - binary_accuracy: 0.9091 - val_loss: 0.1490 - val_binary_accuracy: 0.9524\n",
      "Epoch 8/10\n",
      "66/66 [==============================] - 26s 397ms/step - loss: 0.1177 - binary_accuracy: 0.9606 - val_loss: 0.0603 - val_binary_accuracy: 0.9524\n",
      "Epoch 9/10\n",
      "66/66 [==============================] - 26s 396ms/step - loss: 0.2003 - binary_accuracy: 0.9242 - val_loss: 0.2514 - val_binary_accuracy: 0.8413\n",
      "Epoch 10/10\n",
      "66/66 [==============================] - 26s 398ms/step - loss: 0.1357 - binary_accuracy: 0.9424 - val_loss: 0.0662 - val_binary_accuracy: 1.0000\n"
     ]
    }
   ],
   "source": [
    "from PIL import Image\n",
    "history = model.fit_generator(train_generator,steps_per_epoch=len(train_generator),epochs=10,validation_data=validation_generator,validation_steps=len(validation_generator))"
   ]
  },
  {
   "cell_type": "code",
   "execution_count": 61,
   "metadata": {},
   "outputs": [],
   "source": [
    "model.save(\"../../model/Recog_RGB_VGG16_512_h50_epoch10.h5\")"
   ]
  },
  {
   "cell_type": "code",
   "execution_count": 58,
   "metadata": {},
   "outputs": [
    {
     "data": {
      "image/png": "[encoded data removed]",
      "text/plain": [
       "<Figure size 432x288 with 1 Axes>"
      ]
     },
     "metadata": {
      "needs_background": "light"
     },
     "output_type": "display_data"
    },
    {
     "data": {
      "image/png": "[encoded data removed]",
      "text/plain": [
       "<Figure size 432x288 with 1 Axes>"
      ]
     },
     "metadata": {
      "needs_background": "light"
     },
     "output_type": "display_data"
    }
   ],
   "source": [
    "#画出结果\n",
    "import matplotlib.pyplot as plt\n",
    "\n",
    "#查看变量，发现history.history中就只有这四个值，分别是准确度，验证集准确度，损失，验证集损失\n",
    "acc = history.history['binary_accuracy']\n",
    "val_acc = history.history['val_binary_accuracy']\n",
    "loss = history.history['loss']\n",
    "val_loss = history.history['val_loss']\n",
    "epochs = range(1, len(acc) + 1)\n",
    "\n",
    "#画两个图，分别是正确率和验证损失率\n",
    "#正确率\n",
    "plt.figure(1)\n",
    "plt.plot(epochs, acc, 'bo', label='Training acc')\n",
    "plt.plot(epochs, val_acc, 'b', label='Validation acc')\n",
    "plt.title('Training and validation accuracy')\n",
    "plt.legend()\n",
    "plt.savefig('acc.png')\n",
    "plt.show()\n",
    "#损失\n",
    "plt.figure(2)\n",
    "plt.plot(epochs, loss, 'bo', label='Training loss')\n",
    "plt.plot(epochs, val_loss, 'b', label='Validation loss')\n",
    "plt.title('Training and validation loss')\n",
    "plt.legend()\n",
    "plt.savefig('loss.png')\n",
    "plt.show()\n"
   ]
  },
  {
   "cell_type": "code",
   "execution_count": 59,
   "metadata": {},
   "outputs": [
    {
     "name": "stdout",
     "output_type": "stream",
     "text": [
      "m predicted as:  m\n",
      "m predicted as:  m\n",
      "m predicted as:  m\n",
      "m predicted as:  m\n",
      "m predicted as:  m\n",
      "m predicted as:  m\n",
      "m predicted as:  m\n",
      "m predicted as:  m\n",
      "m predicted as:  m\n",
      "m predicted as:  m\n",
      "m predicted as:  m\n",
      "m predicted as:  m\n",
      "m predicted as:  m\n",
      "m predicted as:  m\n",
      "m predicted as:  m\n",
      "m predicted as:  m\n",
      "m predicted as:  m\n",
      "m predicted as:  m\n",
      "m predicted as:  m\n",
      "m predicted as:  m\n",
      "s predicted as:  s\n",
      "s predicted as:  s\n",
      "s predicted as:  s\n",
      "s predicted as:  s\n",
      "s predicted as:  s\n",
      "s predicted as:  s\n",
      "s predicted as:  s\n",
      "s predicted as:  s\n",
      "s predicted as:  s\n",
      "s predicted as:  s\n",
      "s predicted as:  s\n",
      "s predicted as:  s\n",
      "s predicted as:  s\n",
      "s predicted as:  s\n",
      "s predicted as:  s\n",
      "s predicted as:  s\n",
      "s predicted as:  s\n",
      "s predicted as:  s\n",
      "s predicted as:  s\n",
      "s predicted as:  s\n"
     ]
    }
   ],
   "source": [
    "#手动预测：\n",
    "from PIL import ImageFilter\n",
    "import sys\n",
    "os.chdir(sys.path[0])\n",
    "os.chdir(\"../../data/for_recognize/test/m\")\n",
    "os.system(\"ls *.jpg > names.txt\")\n",
    "os.chdir(\"../s\")\n",
    "os.system(\"ls *.jpg > names.txt\")\n",
    "os.chdir(sys.path[0])\n",
    "with open(\"../../data/for_recognize/test/m/names.txt\") as file:\n",
    "    for line in file.readlines():\n",
    "        if line==\"\":\n",
    "            break;\n",
    "        img = Image.open(\"../../data/for_recognize/test/m/\"+line.strip(\"\\n\"))\n",
    "        img = img.resize((imgSize,imgSize),Image.ANTIALIAS)\n",
    "#         img = img.filter(ImageFilter.EDGE_ENHANCE)\n",
    "#         img = img.filter(ImageFilter.DETAIL)\n",
    "        img = img.filter(ImageFilter.RankFilter(5, 8))\n",
    "        pred_value = model.predict(np.array(img).reshape((1,imgSize,imgSize,3))/255)[0]\n",
    "        print(\"m predicted as: \",'m'if pred_value<0.5 else 's')\n",
    "        \n",
    "with open(\"../../data/for_recognize/test/s/names.txt\") as file:\n",
    "    for line in file.readlines():\n",
    "        if line==\"\":\n",
    "            break;\n",
    "        img = Image.open(\"../../data/for_recognize/test/s/\"+line.strip(\"\\n\"))\n",
    "        img = img.resize((imgSize,imgSize),Image.ANTIALIAS)\n",
    "#         img = img.filter(ImageFilter.EDGE_ENHANCE)\n",
    "#         img = img.filter(ImageFilter.DETAIL)\n",
    "        #img = img.convert('L').filter(ImageFilter.RankFilter(5, 8))\n",
    "        img = img.filter(ImageFilter.RankFilter(5, 8))\n",
    "        pred_value = model.predict(np.array(img).reshape((1,imgSize,imgSize,3))/255)[0]\n",
    "        print(\"s predicted as: \",'m'if pred_value<0.5 else 's')"
   ]
  },
  {
   "cell_type": "code",
   "execution_count": null,
   "metadata": {},
   "outputs": [],
   "source": []
  }
 ],
 "metadata": {
  "kernelspec": {
   "display_name": "Python 3",
   "language": "python",
   "name": "python3"
  },
  "language_info": {
   "codemirror_mode": {
    "name": "ipython",
    "version": 3
   },
   "file_extension": ".py",
   "mimetype": "text/x-python",
   "name": "python",
   "nbconvert_exporter": "python",
   "pygments_lexer": "ipython3",
   "version": "3.7.4"
  }
 },
 "nbformat": 4,
 "nbformat_minor": 2
}
