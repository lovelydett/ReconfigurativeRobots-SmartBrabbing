{
 "cells": [
  {
   "cell_type": "code",
   "execution_count": 3,
   "metadata": {},
   "outputs": [
    {
     "name": "stderr",
     "output_type": "stream",
     "text": [
      "Using TensorFlow backend.\n"
     ]
    }
   ],
   "source": [
    "import os\n",
    "import tensorflow as tf\n",
    "import keras.backend.tensorflow_backend as KTF\n",
    "from keras.applications.vgg16 import VGG16\n",
    "from keras.models import Sequential\n",
    "from keras.layers import Conv2D,MaxPooling2D,Activation,Dropout,Flatten,Dense\n",
    "from keras.optimizers import SGD, Adam\n",
    "from keras.preprocessing.image import ImageDataGenerator,img_to_array,load_img\n",
    "import numpy as np\n",
    "import PIL\n",
    "from PIL import Image\n",
    "import keras"
   ]
  },
  {
   "cell_type": "code",
   "execution_count": 4,
   "metadata": {},
   "outputs": [
    {
     "data": {
      "text/plain": [
       "<tensorflow.python.client.session.Session at 0x7f8878487fd0>"
      ]
     },
     "execution_count": 4,
     "metadata": {},
     "output_type": "execute_result"
    }
   ],
   "source": [
    "#检查gpu情况\n",
    "tf.Session(config=tf.ConfigProto(log_device_placement=True))"
   ]
  },
  {
   "cell_type": "code",
   "execution_count": 5,
   "metadata": {},
   "outputs": [],
   "source": [
    "#设置显卡使用情况和限制显存使用情况\n",
    "# 指定第一块GPU可用 \n",
    "os.environ[\"CUDA_VISIBLE_DEVICES\"] = \"0\" #Titan XP\n",
    "config = tf.ConfigProto()  \n",
    "config.gpu_options.allow_growth=True   #不全部占满显存, 按需分配\n",
    "sess = tf.Session(config=config)\n"
   ]
  },
  {
   "cell_type": "code",
   "execution_count": 9,
   "metadata": {},
   "outputs": [
    {
     "name": "stdout",
     "output_type": "stream",
     "text": [
      "_________________________________________________________________\n",
      "Layer (type)                 Output Shape              Param #   \n",
      "=================================================================\n",
      "conv2d_7 (Conv2D)            (None, 509, 509, 100)     4900      \n",
      "_________________________________________________________________\n",
      "activation_11 (Activation)   (None, 509, 509, 100)     0         \n",
      "_________________________________________________________________\n",
      "max_pooling2d_7 (MaxPooling2 (None, 127, 127, 100)     0         \n",
      "_________________________________________________________________\n",
      "conv2d_8 (Conv2D)            (None, 124, 124, 100)     160100    \n",
      "_________________________________________________________________\n",
      "activation_12 (Activation)   (None, 124, 124, 100)     0         \n",
      "_________________________________________________________________\n",
      "max_pooling2d_8 (MaxPooling2 (None, 31, 31, 100)       0         \n",
      "_________________________________________________________________\n",
      "conv2d_9 (Conv2D)            (None, 28, 28, 100)       160100    \n",
      "_________________________________________________________________\n",
      "activation_13 (Activation)   (None, 28, 28, 100)       0         \n",
      "_________________________________________________________________\n",
      "max_pooling2d_9 (MaxPooling2 (None, 7, 7, 100)         0         \n",
      "_________________________________________________________________\n",
      "flatten_3 (Flatten)          (None, 4900)              0         \n",
      "_________________________________________________________________\n",
      "dense_5 (Dense)              (None, 50)                245050    \n",
      "_________________________________________________________________\n",
      "activation_14 (Activation)   (None, 50)                0         \n",
      "_________________________________________________________________\n",
      "dense_6 (Dense)              (None, 1)                 51        \n",
      "_________________________________________________________________\n",
      "activation_15 (Activation)   (None, 1)                 0         \n",
      "=================================================================\n",
      "Total params: 570,201\n",
      "Trainable params: 570,201\n",
      "Non-trainable params: 0\n",
      "_________________________________________________________________\n"
     ]
    }
   ],
   "source": [
    "#3层卷积\n",
    "imgSize = 512  #图片是512*512\n",
    "imgChan = 3    #3通道\n",
    "kernelInit = 'uniform'  #卷积核初始化方式\n",
    "nHiddenUnits = 50\n",
    "maxpoolSize = (4,4)\n",
    "nFilters = 100 #130 before \n",
    "kernelSize = (4,4)\n",
    "inputStrides = 1\n",
    "#costFunction = 'categorical_crossentropy' #代价函数:不同于损失函数，代价函数在整个训练集上计算\n",
    "early_stop_delta = 0.01 # 0.01 change or above is considered improvement\n",
    "early_stop_patience = 10 \n",
    "\n",
    "model=Sequential()\n",
    "\n",
    "model.add(Conv2D(filters=nFilters, kernel_size = kernelSize ,strides= inputStrides,\n",
    "                 input_shape=(imgSize,imgSize,3),kernel_initializer= kernelInit))\n",
    "model.add(Activation('relu'))\n",
    "\n",
    "\n",
    "\n",
    "model.add(MaxPooling2D(pool_size=maxpoolSize))\n",
    "\n",
    "\n",
    "model.add(Conv2D(filters=nFilters, kernel_size = kernelSize ,strides= inputStrides,\n",
    "                 kernel_initializer= kernelInit))\n",
    "model.add(Activation('relu'))\n",
    "model.add(MaxPooling2D(pool_size=maxpoolSize))\n",
    "\n",
    "\n",
    "model.add(Conv2D(filters=nFilters, kernel_size = kernelSize ,strides= inputStrides,\n",
    "                 kernel_initializer= kernelInit))\n",
    "model.add(Activation('relu'))\n",
    "model.add(MaxPooling2D(pool_size=maxpoolSize))\n",
    "\n",
    "model.add(Flatten())\n",
    "model.add(Dense(nHiddenUnits))\n",
    "model.add(Activation('relu'))\n",
    "model.add(Dense(1))\n",
    "model.add(Activation('sigmoid')) #二分类\n",
    "\n",
    "earlyStopping = keras.callbacks.EarlyStopping(monitor='val_loss', min_delta=early_stop_delta, patience=early_stop_patience, verbose=2, mode='auto')\n",
    "\n",
    "model.summary()"
   ]
  },
  {
   "cell_type": "code",
   "execution_count": 12,
   "metadata": {},
   "outputs": [],
   "source": [
    "#定义 train_generator:\n",
    "def train_generator():\n",
    "    while 1:\n",
    "        with open(\"../../data/imgProcessed/training/m/names.txt\") as file:\n",
    "            for line in file.readlines():\n",
    "                img = Image.open(\"../../data/imgProcessed/training/m/\"+line.strip(\"\\n\"))\n",
    "                img = img.resize((imgSize,imgSize))\n",
    "                #print(model.predict(np.array(img).reshape((1,imgSize,imgSize,3))))\n",
    "                yield (np.array(img).reshape((1,imgSize,imgSize,3))/255,np.ones((1,1)))\n",
    "                #1是煤\n",
    "                #imgs.append(img)\n",
    "        with open(\"../../data/imgProcessed/training/s/names.txt\") as file:\n",
    "            for line in file.readlines():\n",
    "                img = Image.open(\"../../data/imgProcessed/training/s/\"+line.strip(\"\\n\"))\n",
    "                img = img.resize((imgSize,imgSize))\n",
    "                #print(model.predict(np.array(img).reshape((1,imgSize,imgSize,3))))\n",
    "                yield (np.array(img).reshape((1,imgSize,imgSize,3))/255,np.zeros((1,1)))\n",
    "                #0是煤矸石\n",
    "                #imgs.append(img)\n",
    "def validation_generator():\n",
    "    while 1:\n",
    "        with open(\"../../data/imgProcessed/validation/m/names.txt\") as file:\n",
    "            for line in file.readlines():\n",
    "                img = Image.open(\"../../data/imgProcessed/validation/m/\"+line.strip(\"\\n\"))\n",
    "                img = img.resize((imgSize,imgSize))\n",
    "                yield (np.array(img).reshape((1,imgSize,imgSize,3))/255,np.ones((1,1)))\n",
    "                #1是煤\n",
    "        with open(\"../../data/imgProcessed/validation/s/names.txt\") as file:\n",
    "            for line in file.readlines():\n",
    "                img = Image.open(\"../../data/imgProcessed/validation/s/\"+line.strip(\"\\n\"))\n",
    "                img = img.resize((imgSize,imgSize))\n",
    "                yield (np.array(img).reshape((1,imgSize,imgSize,3))/255,np.zeros((1,1)))\n",
    "                #0是煤矸石"
   ]
  },
  {
   "cell_type": "code",
   "execution_count": 13,
   "metadata": {},
   "outputs": [
    {
     "name": "stdout",
     "output_type": "stream",
     "text": [
      "[[[[0.8        0.83529412 0.81568627]\n",
      "   [0.8        0.83529412 0.81568627]\n",
      "   [0.79607843 0.81960784 0.80392157]\n",
      "   ...\n",
      "   [0.7254902  0.75294118 0.72156863]\n",
      "   [0.7254902  0.75294118 0.72156863]\n",
      "   [0.72941176 0.75686275 0.7254902 ]]\n",
      "\n",
      "  [[0.80392157 0.83921569 0.81960784]\n",
      "   [0.79215686 0.82745098 0.80784314]\n",
      "   [0.79607843 0.81960784 0.80392157]\n",
      "   ...\n",
      "   [0.7254902  0.75294118 0.72156863]\n",
      "   [0.7254902  0.75294118 0.72156863]\n",
      "   [0.72941176 0.75686275 0.7254902 ]]\n",
      "\n",
      "  [[0.80392157 0.83921569 0.81960784]\n",
      "   [0.78431373 0.81960784 0.8       ]\n",
      "   [0.79215686 0.81568627 0.8       ]\n",
      "   ...\n",
      "   [0.72941176 0.75686275 0.7254902 ]\n",
      "   [0.7254902  0.75294118 0.72156863]\n",
      "   [0.7254902  0.75294118 0.72156863]]\n",
      "\n",
      "  ...\n",
      "\n",
      "  [[0.74509804 0.76862745 0.75294118]\n",
      "   [0.74509804 0.76862745 0.75294118]\n",
      "   [0.74901961 0.77254902 0.75686275]\n",
      "   ...\n",
      "   [0.7254902  0.75294118 0.7254902 ]\n",
      "   [0.71764706 0.74509804 0.71764706]\n",
      "   [0.72156863 0.74901961 0.72156863]]\n",
      "\n",
      "  [[0.74901961 0.77647059 0.74901961]\n",
      "   [0.74509804 0.77254902 0.74509804]\n",
      "   [0.74509804 0.77254902 0.74509804]\n",
      "   ...\n",
      "   [0.72941176 0.75686275 0.72941176]\n",
      "   [0.72156863 0.74901961 0.72156863]\n",
      "   [0.7254902  0.75294118 0.7254902 ]]\n",
      "\n",
      "  [[0.74901961 0.77647059 0.74901961]\n",
      "   [0.74117647 0.76862745 0.74117647]\n",
      "   [0.74117647 0.76862745 0.74117647]\n",
      "   ...\n",
      "   [0.72941176 0.75686275 0.72941176]\n",
      "   [0.72156863 0.74901961 0.72156863]\n",
      "   [0.71372549 0.74117647 0.71372549]]]]\n"
     ]
    }
   ],
   "source": [
    "test = train_generator()\n",
    "x,y = test.__next__()\n",
    "print(x)"
   ]
  },
  {
   "cell_type": "code",
   "execution_count": 19,
   "metadata": {},
   "outputs": [
    {
     "name": "stdout",
     "output_type": "stream",
     "text": [
      "Epoch 1/20\n",
      "25/25 [==============================] - 4s 154ms/step - loss: 1.1921e-07 - binary_accuracy: 1.0000 - val_loss: 7.1517 - val_binary_accuracy: 0.5514\n",
      "Epoch 2/20\n",
      "25/25 [==============================] - 3s 133ms/step - loss: 1.1921e-07 - binary_accuracy: 1.0000 - val_loss: 7.1517 - val_binary_accuracy: 0.5514\n",
      "Epoch 3/20\n",
      "25/25 [==============================] - 3s 131ms/step - loss: 1.1921e-07 - binary_accuracy: 1.0000 - val_loss: 8.4927 - val_binary_accuracy: 0.4673\n",
      "Epoch 4/20\n",
      "25/25 [==============================] - 3s 129ms/step - loss: 1.1921e-07 - binary_accuracy: 1.0000 - val_loss: 8.7907 - val_binary_accuracy: 0.4486\n",
      "Epoch 5/20\n",
      "25/25 [==============================] - 4s 162ms/step - loss: 0.6377 - binary_accuracy: 0.9600 - val_loss: 7.7477 - val_binary_accuracy: 0.5140\n",
      "Epoch 6/20\n",
      "25/25 [==============================] - 3s 115ms/step - loss: 15.9424 - binary_accuracy: 0.0000e+00 - val_loss: 7.1517 - val_binary_accuracy: 0.5514\n",
      "Epoch 7/20\n",
      "25/25 [==============================] - 3s 119ms/step - loss: 15.9424 - binary_accuracy: 0.0000e+00 - val_loss: 7.8967 - val_binary_accuracy: 0.5047\n",
      "Epoch 8/20\n",
      "25/25 [==============================] - 3s 138ms/step - loss: 15.9424 - binary_accuracy: 0.0000e+00 - val_loss: 8.7907 - val_binary_accuracy: 0.4486\n",
      "Epoch 9/20\n",
      "25/25 [==============================] - 4s 144ms/step - loss: 15.9424 - binary_accuracy: 0.0000e+00 - val_loss: 8.3437 - val_binary_accuracy: 0.4766\n",
      "Epoch 10/20\n",
      "25/25 [==============================] - 3s 130ms/step - loss: 12.1162 - binary_accuracy: 0.2400 - val_loss: 7.1517 - val_binary_accuracy: 0.5514\n",
      "Epoch 11/20\n",
      "25/25 [==============================] - 3s 124ms/step - loss: 1.1921e-07 - binary_accuracy: 1.0000 - val_loss: 7.3007 - val_binary_accuracy: 0.5421\n",
      "Epoch 12/20\n",
      "25/25 [==============================] - 4s 146ms/step - loss: 1.1921e-07 - binary_accuracy: 1.0000 - val_loss: 8.7907 - val_binary_accuracy: 0.4486\n",
      "Epoch 13/20\n",
      "25/25 [==============================] - 3s 131ms/step - loss: 1.1921e-07 - binary_accuracy: 1.0000 - val_loss: 8.7907 - val_binary_accuracy: 0.4486\n",
      "Epoch 14/20\n",
      "25/25 [==============================] - 3s 138ms/step - loss: 1.1921e-07 - binary_accuracy: 1.0000 - val_loss: 7.3007 - val_binary_accuracy: 0.5421\n",
      "Epoch 15/20\n",
      "25/25 [==============================] - 4s 149ms/step - loss: 4.4639 - binary_accuracy: 0.7200 - val_loss: 7.1517 - val_binary_accuracy: 0.5514\n",
      "Epoch 16/20\n",
      "25/25 [==============================] - 4s 146ms/step - loss: 15.9424 - binary_accuracy: 0.0000e+00 - val_loss: 8.3437 - val_binary_accuracy: 0.4766\n",
      "Epoch 17/20\n",
      "25/25 [==============================] - 3s 117ms/step - loss: 15.9424 - binary_accuracy: 0.0000e+00 - val_loss: 8.7907 - val_binary_accuracy: 0.4486\n",
      "Epoch 18/20\n",
      "25/25 [==============================] - 3s 119ms/step - loss: 15.9424 - binary_accuracy: 0.0000e+00 - val_loss: 7.8967 - val_binary_accuracy: 0.5047\n",
      "Epoch 19/20\n",
      "25/25 [==============================] - 3s 135ms/step - loss: 15.9424 - binary_accuracy: 0.0000e+00 - val_loss: 7.1517 - val_binary_accuracy: 0.5514\n",
      "Epoch 20/20\n",
      "25/25 [==============================] - 3s 133ms/step - loss: 8.2900 - binary_accuracy: 0.4800 - val_loss: 7.7477 - val_binary_accuracy: 0.5140\n"
     ]
    }
   ],
   "source": [
    "model.compile(optimizer=Adam(lr=0.0001, beta_1=0.9, beta_2=0.999, epsilon=1e-08),loss=\"binary_crossentropy\",metrics=['binary_accuracy'])\n",
    "history = model.fit_generator(train_generator(),steps_per_epoch=25,epochs=20,validation_data=validation_generator(),validation_steps=107)"
   ]
  },
  {
   "cell_type": "code",
   "execution_count": 21,
   "metadata": {},
   "outputs": [
    {
     "ename": "TypeError",
     "evalue": "imshow() missing 1 required positional argument: 'X'",
     "output_type": "error",
     "traceback": [
      "\u001b[0;31m---------------------------------------------------------------------------\u001b[0m",
      "\u001b[0;31mTypeError\u001b[0m                                 Traceback (most recent call last)",
      "\u001b[0;32m<ipython-input-21-0c1b1aa3d9e6>\u001b[0m in \u001b[0;36m<module>\u001b[0;34m\u001b[0m\n\u001b[1;32m     12\u001b[0m \u001b[0mplt\u001b[0m\u001b[0;34m.\u001b[0m\u001b[0mlegend\u001b[0m\u001b[0;34m(\u001b[0m\u001b[0;34m[\u001b[0m\u001b[0;34m\"train\"\u001b[0m\u001b[0;34m,\u001b[0m\u001b[0;34m\"test\"\u001b[0m\u001b[0;34m]\u001b[0m\u001b[0;34m,\u001b[0m\u001b[0mloc\u001b[0m\u001b[0;34m=\u001b[0m\u001b[0;34m\"upper left\"\u001b[0m\u001b[0;34m)\u001b[0m\u001b[0;34m\u001b[0m\u001b[0;34m\u001b[0m\u001b[0m\n\u001b[1;32m     13\u001b[0m \u001b[0;34m\u001b[0m\u001b[0m\n\u001b[0;32m---> 14\u001b[0;31m \u001b[0mplt\u001b[0m\u001b[0;34m.\u001b[0m\u001b[0mimshow\u001b[0m\u001b[0;34m(\u001b[0m\u001b[0;34m)\u001b[0m\u001b[0;34m\u001b[0m\u001b[0;34m\u001b[0m\u001b[0m\n\u001b[0m",
      "\u001b[0;31mTypeError\u001b[0m: imshow() missing 1 required positional argument: 'X'"
     ]
    },
    {
     "data": {
      "image/png": "[encoded data removed]",
      "text/plain": [
       "<Figure size 432x288 with 1 Axes>"
      ]
     },
     "metadata": {
      "needs_background": "light"
     },
     "output_type": "display_data"
    }
   ],
   "source": [
    "import matplotlib.pyplot as plt\n",
    "plt.plot(history.history['loss'])\n",
    "\n",
    "plt.plot(history.history['val_loss'])\n",
    "\n",
    "plt.title(\"model loss\")\n",
    "\n",
    "plt.ylabel(\"loss\")\n",
    "\n",
    "plt.xlabel(\"epoch\")\n",
    "\n",
    "plt.legend([\"train\",\"test\"],loc=\"upper left\")\n",
    "\n",
    "plt.imshow()\n"
   ]
  },
  {
   "cell_type": "code",
   "execution_count": null,
   "metadata": {},
   "outputs": [],
   "source": []
  }
 ],
 "metadata": {
  "kernelspec": {
   "display_name": "Python 3",
   "language": "python",
   "name": "python3"
  },
  "language_info": {
   "codemirror_mode": {
    "name": "ipython",
    "version": 3
   },
   "file_extension": ".py",
   "mimetype": "text/x-python",
   "name": "python",
   "nbconvert_exporter": "python",
   "pygments_lexer": "ipython3",
   "version": "3.7.4"
  }
 },
 "nbformat": 4,
 "nbformat_minor": 2
}
